{
 "cells": [
  {
   "cell_type": "code",
   "execution_count": 5,
   "metadata": {},
   "outputs": [],
   "source": [
    "from pyspark.sql import SparkSession\n",
    "import pyspark.sql.functions as sf\n",
    "import pyspark.sql.types as st\n",
    "from datetime import date\n",
    "\n",
    "spark = SparkSession.builder.getOrCreate()\n",
    "\n",
    "daily_country_confirmed_cases = \"./data/Daily_Country_Wise_Confirmed_Cases.csv\"\n",
    "\n",
    "daily_df = spark.read.csv(daily_country_confirmed_cases,inferSchema=True,header=True)\n"
   ]
  },
  {
   "cell_type": "code",
   "execution_count": 10,
   "metadata": {},
   "outputs": [
    {
     "name": "stdout",
     "output_type": "stream",
     "text": [
      "2022-07-05\n"
     ]
    }
   ],
   "source": [
    "# Change to importing this function\n",
    "def date_check():\n",
    "    today = date.today()\n",
    "    return str(today)"
   ]
  },
  {
   "cell_type": "code",
   "execution_count": 16,
   "metadata": {},
   "outputs": [
    {
     "name": "stdout",
     "output_type": "stream",
     "text": [
      "+-------------+----------+----------+\n",
      "|      Country|2022-05-06|2022-06-06|\n",
      "+-------------+----------+----------+\n",
      "|      England|         1|        73|\n",
      "|     Portugal|         0|        10|\n",
      "|        Spain|         0|        17|\n",
      "|United States|         0|         1|\n",
      "|        Italy|         0|         6|\n",
      "+-------------+----------+----------+\n",
      "only showing top 5 rows\n",
      "\n"
     ]
    }
   ],
   "source": [
    "# Showing the change of cases over a month\n",
    "daily_df.select('Country','2022-05-06', '2022-06-06').where(daily_df['2022-06-06'] >= 1).show(5)"
   ]
  }
 ],
 "metadata": {
  "kernelspec": {
   "display_name": "Python 3.7.13 ('venv': venv)",
   "language": "python",
   "name": "python3"
  },
  "language_info": {
   "codemirror_mode": {
    "name": "ipython",
    "version": 3
   },
   "file_extension": ".py",
   "mimetype": "text/x-python",
   "name": "python",
   "nbconvert_exporter": "python",
   "pygments_lexer": "ipython3",
   "version": "3.7.13"
  },
  "orig_nbformat": 4,
  "vscode": {
   "interpreter": {
    "hash": "93af7c608b0f8e74bdfb49cbb8fb63d6964698f0fd3f1d7c5daa31ee5b134e5b"
   }
  }
 },
 "nbformat": 4,
 "nbformat_minor": 2
}
