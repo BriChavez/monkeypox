{
 "cells": [
  {
   "cell_type": "code",
   "execution_count": 5,
   "metadata": {},
   "outputs": [],
   "source": [
    "from pyspark.sql import SparkSession\n",
    "import pyspark.sql.functions as sf\n",
    "import pyspark.sql.types as st\n",
    "from datetime import date\n",
    "\n",
    "spark = SparkSession.builder.getOrCreate()\n",
    "\n",
    "daily_country_confirmed_cases = \"./data/Daily_Country_Wise_Confirmed_Cases.csv\"\n",
    "\n",
    "daily_df = spark.read.csv(daily_country_confirmed_cases,inferSchema=True,header=True)\n"
   ]
  },
  {
   "cell_type": "code",
   "execution_count": 23,
   "metadata": {},
   "outputs": [],
   "source": [
    "# Change to importing this function\n",
    "def date_check():\n",
    "    today = date.today()\n",
    "    return str(today)\n",
    "\n",
    "from datetime import datetime, timedelta\n",
    "\n",
    "date_1_week_back = str(date.today() - timedelta(weeks = 1))\n",
    "date_2_weeks_back = str(date.today() - timedelta(weeks = 2))\n",
    "date_1_month_back = str(date.today() - timedelta(weeks = 4))"
   ]
  },
  {
   "cell_type": "code",
   "execution_count": 29,
   "metadata": {},
   "outputs": [
    {
     "name": "stdout",
     "output_type": "stream",
     "text": [
      "+-------------+----------+----------+\n",
      "|      Country|2022-05-06|2022-06-06|\n",
      "+-------------+----------+----------+\n",
      "|      England|         1|        73|\n",
      "|     Portugal|         0|        10|\n",
      "|        Spain|         0|        17|\n",
      "|United States|         0|         1|\n",
      "|        Italy|         0|         6|\n",
      "|       Canada|         0|         1|\n",
      "|     Scotland|         0|         2|\n",
      "|     Slovenia|         0|         3|\n",
      "|        Wales|         0|         1|\n",
      "+-------------+----------+----------+\n",
      "\n"
     ]
    }
   ],
   "source": [
    "# Showing the change of cases over a month\n",
    "daily_df.select('Country','2022-05-06', '2022-06-06').where(daily_df['2022-06-06'] >= 1).show()"
   ]
  },
  {
   "cell_type": "code",
   "execution_count": 26,
   "metadata": {},
   "outputs": [
    {
     "name": "stdout",
     "output_type": "stream",
     "text": [
      "+-------------+----------+\n",
      "|      Country|2022-06-28|\n",
      "+-------------+----------+\n",
      "|United States|        62|\n",
      "|      Germany|        65|\n",
      "|      Belgium|        40|\n",
      "|        Italy|        32|\n",
      "|       Canada|        18|\n",
      "|       France|       109|\n",
      "|       Norway|        11|\n",
      "+-------------+----------+\n",
      "\n"
     ]
    }
   ],
   "source": [
    "# \n",
    "daily_df.select('Country', date_1_week_back).where(daily_df[date_1_week_back] > 10).show()"
   ]
  },
  {
   "cell_type": "code",
   "execution_count": null,
   "metadata": {},
   "outputs": [],
   "source": [
    "# daily_df.select('Country', date_1_month_back).where(daily_df[date_1_month_back])"
   ]
  }
 ],
 "metadata": {
  "kernelspec": {
   "display_name": "Python 3.7.13 ('venv': venv)",
   "language": "python",
   "name": "python3"
  },
  "language_info": {
   "codemirror_mode": {
    "name": "ipython",
    "version": 3
   },
   "file_extension": ".py",
   "mimetype": "text/x-python",
   "name": "python",
   "nbconvert_exporter": "python",
   "pygments_lexer": "ipython3",
   "version": "3.7.13"
  },
  "orig_nbformat": 4,
  "vscode": {
   "interpreter": {
    "hash": "93af7c608b0f8e74bdfb49cbb8fb63d6964698f0fd3f1d7c5daa31ee5b134e5b"
   }
  }
 },
 "nbformat": 4,
 "nbformat_minor": 2
}
