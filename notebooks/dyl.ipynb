{
 "cells": [
  {
   "cell_type": "code",
   "execution_count": 80,
   "metadata": {},
   "outputs": [],
   "source": [
    "from pyspark.sql import SparkSession\n",
    "import pyspark.sql.functions as sf\n",
    "import pyspark.sql.types as st\n",
    "from datetime import date\n",
    "\n",
    "spark = SparkSession.builder.getOrCreate()\n",
    "\n",
    "daily_country_confirmed_cases = \"./data/Daily_Country_Wise_Confirmed_Cases.csv\"\n",
    "\n",
    "daily_df = spark.read.csv(daily_country_confirmed_cases,inferSchema=True,header=True)\n"
   ]
  },
  {
   "cell_type": "code",
   "execution_count": 81,
   "metadata": {},
   "outputs": [],
   "source": [
    "# Change to importing this function\n",
    "def date_check():\n",
    "    today = date.today()\n",
    "    return str(today)\n",
    "\n",
    "from datetime import datetime, timedelta\n",
    "\n",
    "def date_minus_weeks(x:int) -> str:\n",
    "    \"\"\"\n",
    "    Returns a timedelta STRING\n",
    "    \"\"\"\n",
    "    return str(date.today() - timedelta(weeks = x))"
   ]
  },
  {
   "cell_type": "code",
   "execution_count": 82,
   "metadata": {},
   "outputs": [
    {
     "name": "stdout",
     "output_type": "stream",
     "text": [
      "+-------------+----------+\n",
      "|      Country|2022-07-01|\n",
      "+-------------+----------+\n",
      "|United States|        64|\n",
      "|      Germany|        85|\n",
      "|        Italy|        33|\n",
      "|  Switzerland|         8|\n",
      "|      Austria|        17|\n",
      "+-------------+----------+\n",
      "\n"
     ]
    }
   ],
   "source": [
    "# Showing the change of cases over a month\n",
    "daily_df.select('Country',daily_df[-1]).where(daily_df[-1] >= 1).show()"
   ]
  },
  {
   "cell_type": "code",
   "execution_count": 44,
   "metadata": {},
   "outputs": [
    {
     "name": "stdout",
     "output_type": "stream",
     "text": [
      "+-------------+----------+----------+\n",
      "|      Country|2022-06-22|2022-06-29|\n",
      "+-------------+----------+----------+\n",
      "|     Portugal|        13|        18|\n",
      "|United States|        14|        45|\n",
      "|      Germany|        54|        35|\n",
      "|       Canada|         0|        12|\n",
      "|       Brazil|         2|        16|\n",
      "+-------------+----------+----------+\n",
      "\n"
     ]
    }
   ],
   "source": [
    "# Shows the change over 1 week\n",
    "daily_df.select('Country', daily_df[date_minus_weeks(2)],daily_df[date_minus_weeks(1)]).where(daily_df[date_minus_weeks(1)] > 10).show()"
   ]
  },
  {
   "cell_type": "code",
   "execution_count": 43,
   "metadata": {},
   "outputs": [
    {
     "name": "stdout",
     "output_type": "stream",
     "text": [
      "+--------------------+----------+----------+----------+----------+----------+----------+----------+\n",
      "|             Country|2022-05-18|2022-05-25|2022-06-01|2022-06-08|2022-06-15|2022-06-22|2022-06-29|\n",
      "+--------------------+----------+----------+----------+----------+----------+----------+----------+\n",
      "|             England|         2|         7|         5|         0|         0|         0|         0|\n",
      "|            Portugal|        11|        10|        19|        25|        10|        13|        18|\n",
      "|               Spain|         7|         8|         0|        34|         0|         0|         0|\n",
      "|       United States|         1|         2|         0|         5|        12|        14|        45|\n",
      "|             Germany|         0|         1|         0|        13|        45|        54|        35|\n",
      "|             Belgium|         0|         2|         5|         8|        27|         0|         0|\n",
      "|              Sweden|         0|         1|         0|         0|         4|         0|         0|\n",
      "|               Italy|         0|         4|         2|         2|        10|         0|         0|\n",
      "|              Canada|         0|         0|        27|         1|         0|         0|        12|\n",
      "|              France|         0|         2|        16|         0|         0|         0|         0|\n",
      "|           Australia|         0|         0|         0|         0|         2|         0|         0|\n",
      "|         Netherlands|         0|         6|         0|         0|         0|        72|         0|\n",
      "|              Israel|         0|         0|         0|         0|         1|         2|         5|\n",
      "|         Switzerland|         0|         0|         0|         2|         8|         5|         9|\n",
      "|             Austria|         0|         0|         0|         0|         1|         0|         0|\n",
      "|            Scotland|         0|         0|         1|         0|         0|         0|         0|\n",
      "|             Denmark|         0|         0|         0|         0|         0|         1|         2|\n",
      "|      Czech Republic|         0|         0|         0|         0|         0|         1|         0|\n",
      "|United Arab Emirates|         0|         0|         4|         0|         0|         0|         0|\n",
      "|            Slovenia|         0|         1|         0|         0|         0|         0|         0|\n",
      "+--------------------+----------+----------+----------+----------+----------+----------+----------+\n",
      "only showing top 20 rows\n",
      "\n"
     ]
    }
   ],
   "source": [
    "daily_df.select(\n",
    "    'Country',\n",
    "    daily_df[date_minus_weeks(7)],\n",
    "    daily_df[date_minus_weeks(6)],\n",
    "    daily_df[date_minus_weeks(5)],\n",
    "    daily_df[date_minus_weeks(4)],\n",
    "    daily_df[date_minus_weeks(3)],\n",
    "    daily_df[date_minus_weeks(2)],\n",
    "    daily_df[date_minus_weeks(1)])\\\n",
    "        .show()"
   ]
  },
  {
   "cell_type": "code",
   "execution_count": 77,
   "metadata": {},
   "outputs": [
    {
     "name": "stdout",
     "output_type": "stream",
     "text": [
      "+---------------+---------------+---------------+---------------+---------------+---------------+---------------+---------------+---------------+---------------+---------------+---------------+---------------+---------------+---------------+---------------+---------------+---------------+---------------+---------------+---------------+---------------+---------------+---------------+---------------+---------------+---------------+---------------+---------------+---------------+---------------+---------------+---------------+---------------+---------------+---------------+---------------+---------------+---------------+---------------+---------------+---------------+---------------+---------------+---------------+---------------+---------------+---------------+----------+\n",
      "|sum(2022-05-06)|sum(2022-05-12)|sum(2022-05-13)|sum(2022-05-15)|sum(2022-05-17)|sum(2022-05-18)|sum(2022-05-19)|sum(2022-05-20)|sum(2022-05-21)|sum(2022-05-23)|sum(2022-05-24)|sum(2022-05-25)|sum(2022-05-26)|sum(2022-05-27)|sum(2022-05-28)|sum(2022-05-29)|sum(2022-05-30)|sum(2022-05-31)|sum(2022-06-01)|sum(2022-06-02)|sum(2022-06-03)|sum(2022-06-04)|sum(2022-06-06)|sum(2022-06-07)|sum(2022-06-08)|sum(2022-06-09)|sum(2022-06-10)|sum(2022-06-11)|sum(2022-06-12)|sum(2022-06-13)|sum(2022-06-14)|sum(2022-06-15)|sum(2022-06-16)|sum(2022-06-17)|sum(2022-06-18)|sum(2022-06-19)|sum(2022-06-20)|sum(2022-06-21)|sum(2022-06-22)|sum(2022-06-23)|sum(2022-06-24)|sum(2022-06-25)|sum(2022-06-26)|sum(2022-06-27)|sum(2022-06-28)|sum(2022-06-29)|sum(2022-06-30)|sum(2022-07-01)|sum(total)|\n",
      "+---------------+---------------+---------------+---------------+---------------+---------------+---------------+---------------+---------------+---------------+---------------+---------------+---------------+---------------+---------------+---------------+---------------+---------------+---------------+---------------+---------------+---------------+---------------+---------------+---------------+---------------+---------------+---------------+---------------+---------------+---------------+---------------+---------------+---------------+---------------+---------------+---------------+---------------+---------------+---------------+---------------+---------------+---------------+---------------+---------------+---------------+---------------+---------------+----------+\n",
      "|              1|              1|              1|              4|              3|             21|             16|             46|             16|             73|             34|             44|             88|             51|             16|             15|            123|             66|             83|            125|             94|              7|            114|            150|             97|            146|             42|              9|            107|             58|            243|            146|            371|            196|              1|              1|            290|            273|            167|            436|            329|              3|            168|            367|            366|            147|            816|            207|      6178|\n",
      "+---------------+---------------+---------------+---------------+---------------+---------------+---------------+---------------+---------------+---------------+---------------+---------------+---------------+---------------+---------------+---------------+---------------+---------------+---------------+---------------+---------------+---------------+---------------+---------------+---------------+---------------+---------------+---------------+---------------+---------------+---------------+---------------+---------------+---------------+---------------+---------------+---------------+---------------+---------------+---------------+---------------+---------------+---------------+---------------+---------------+---------------+---------------+---------------+----------+\n",
      "\n"
     ]
    }
   ],
   "source": [
    "# Worldwide total, sum of all.\n",
    "from functools import reduce\n",
    "\n",
    "def column_add(a,b):\n",
    "     return  a.__add__(b)\n",
    "agg1_df = daily_df.drop('Country')\n",
    "\n",
    "# def column_add(a:int,b:int):\n",
    "#      if type(a) == int and type(b) == int:\n",
    "#           return  a+b\n",
    "#      else:\n",
    "#           pass\n",
    "agg1_df = agg1_df.withColumn('total', reduce(column_add, (agg1_df[col] for col in agg1_df.columns)))\n",
    "agg1_df.groupBy().sum().show()\n",
    "\n",
    "# daily_df.withColumn('totals', reduce(column_add, (daily_df[col] for col in daily_df.columns))).show()\n",
    "\n",
    "# daily_df.drop(daily_df['Country']).withColumn('total_col', reduce(column_add, (daily_df[col] for col in daily_df.columns))).show()\n",
    "\n"
   ]
  },
  {
   "cell_type": "code",
   "execution_count": null,
   "metadata": {},
   "outputs": [],
   "source": [
    "# Create dataframe for region totals weekly totals and sums\n",
    "\n",
    "africa = [\"Algeria\", \"Angola\", \"Benin\", \"Botswana\", \"Burkina Faso\", \"Burundi\", \"Cameroon\", \"Cape Verde\", \"Central African Republic\",\n",
    "    \"Chad\", \"Comoros\", \"Cote d'Ivoire\", \"Democratic Republic of the Congo\", \"Djibouti\", \"Egypt\", \"Equatorial Guinea\", \"Eritrea\",\n",
    "    \"Ethiopia\", \"Gabon\", \"Gambia\", \"Ghana\", \"Guinea\", \"Guinea-Bissau\", \"Kenya\", \"Lesotho\", \"Liberia\", \"Libya\", \"Madagascar\", \"Malawi\",\n",
    "    \"Mali\", \"Mauritania\", \"Mauritius\", \"Morocco\", \"Mozambique\", \"Namibia\", \"Niger\", \"Nigeria\", \"Republic of the Congo\", \"Reunion\",\n",
    "    \"Rwanda\", \"Saint Helena\", \"Sao Tome and Principe\", \"Senegal\", \"Seychelles\", \"Sierra Leone\", \"Somalia\", \"South Africa\", \"South Sudan\", \n",
    "    \"Sudan\", \"Swaziland\", \"Tanzania\", \"Togo\", \"Tunisia\", \"Uganda\", \"Western Sahara\", \"Zambia\", \"Zimbabwe\"]\n",
    "\n",
    "asia = [\"Afghanistan\", \"Armenia\", \"Azerbaijan\", \"Bahrain\", \"Bangladesh\", \"Bhutan\", \"Brunei\", \"Burma\", \"Cambodia\", \"China\", \"Cyprus\",\n",
    "    \"East Timor\", \"Georgia\", \"Hong Kong\", \"India\", \"Indonesia\", \"Iran\", \"Iraq\", \"Israel\", \"Japan\", \"Jordan\", \"Kazakhstan\", \"Kuwait\",\n",
    "    \"Kyrgyzstan\", \"Laos\", \"Lebanon\", \"Macau\", \"Malaysia\", \"Maldives\", \"Mongolia\", \"Nepal\", \"North Korea\", \"Oman\", \"Pakistan\", \"Philippines\",\n",
    "    \"Qatar\", \"Saudi Arabia\", \"Singapore\", \"South Korea\", \"Sri Lanka\", \"Syria\", \"Taiwan\", \"Tajikistan\", \"Thailand\", \"Turkey\", \"Turkmenistan\",\n",
    "    \"United Arab Emirates\", \"Uzbekistan\", \"Vietnam\", \"Yemen\"]\n",
    "\n",
    "caribbean = [\"Anguilla\", \"Antigua and Barbuda\", \"Aruba\", \"The Bahamas\", \"Barbados\", \"Bermuda\", \"British Virgin Islands\", \"Cayman Islands\",\n",
    "    \"Cuba\", \"Dominica\", \"Dominican Republic\", \"Grenada\", \"Guadeloupe\", \"Haiti\", \"Jamaica\", \"Martinique\", \"Montserrat\", \"Netherlands Antilles\",\n",
    "    \"Puerto Rico\", \"Saint Kitts and Nevis\", \"Saint Lucia\", \"Saint Vincent and the Grenadines\", \"Trinidad and Tobago\", \"Turks and Caicos Islands\", \"U.S. Virgin Islands\"]\n",
    "\n",
    "central_america = [\"Belize\", \"Costa Rica\", \"El Salvador\", \"Guatemala\", \"Honduras\", \"Nicaragua\", \"Panama\"]\n",
    "\n",
    "europe = [\"Albania\", \"Andorra\", \"Austria\", \"Belarus\", \"Belgium\", \"Bosnia and Herzegovina\", \"Bulgaria\", \"Croatia\", \n",
    "    \"Czech Republic\", \"Denmark\", \"Estonia\", \"Finland\", \"France\", \"Germany\", \"Gibraltar\", \"Greece\", \"Holy See\", \"Hungary\", \"Iceland\", \"Ireland\", \"Italy\", \"Kosovo\", \"Latvia\",\n",
    "    \"Liechtenstein\", \"Lithuania\", \"Luxembourg\", \"Macedonia\", \"Malta\", \"Moldova\", \"Monaco\", \"Montenegro\", \"Netherlands\", \"Norway\", \"Poland\", \"Portugal\", \"Romania\", \"Russia\", \n",
    "    \"San Marino\", \"Slovak Republic\", \"Slovenia\", \"Spain\", \"Serbia\", \"Serbia and Montenegro\", \"Sweden\", \"Switzerland\", \"Ukraine\", \"United Kingdom\", \"Northern Ireland\", \"Wales\"]\n",
    "\n",
    "north_america = [\"Canada\", \"Greenland\", \"Mexico\", \"Saint Pierre and Miquelon\", \"United States\"]\n",
    "\n",
    "oceania = [\"American Samoa\", \"Australia\", \"Christmas Island\", \"Cocos (Keeling) Islands\", \"Cook Islands\", \"Federated States of Micronesia\", \"Fiji\", \"French Polynesia\", \n",
    "    \"Guam\", \"Kiribati\", \"Marshall Islands\", \"Nauru\", \"New Caledonia\", \"New Zealand\", \"Niue\", \"Northern Mariana Islands\", \"Palau\", \"Papua New Guinea\", \"Pitcairn Islands\",\n",
    "    \"Samoa\", \"Solomon Islands\", \"Tokelau\", \"Tonga\", \"Tuvalu\", \"Vanuatu\", \"Wallis and Futuna Islands\"]\n",
    "\n",
    "south_america = [\"Argentina\", \"Bolivia\", \"Brazil\", \"Chile\", \"Colombia\", \"Ecuador\", \"Falkland Islands\", \"French Guiana\", \"Guyana\", \"Paraguay\", \"Peru\", \"Suriname\", \"Uruguay\",\n",
    "    \"Venezuela\"]"
   ]
  },
  {
   "cell_type": "code",
   "execution_count": null,
   "metadata": {},
   "outputs": [],
   "source": [
    "# Total daily average."
   ]
  },
  {
   "cell_type": "code",
   "execution_count": 121,
   "metadata": {},
   "outputs": [
    {
     "ename": "KeyError",
     "evalue": "\"None of ['England', 'Portugal', 'Spain', 'United States', 'Germany', 'Belgium', 'Sweden', 'Italy', 'Canada', 'France', 'Australia', 'Netherlands', 'Israel', 'Switzerland', 'Austria', 'Scotland', 'Denmark', 'Czech Republic', 'United Arab Emirates', 'Slovenia', 'Wales', 'Northern Ireland', 'Argentina', 'Ireland', 'Finland', 'Malta', 'Mexico', 'Norway', 'Hungary', 'Gibraltar', 'Morocco', 'Latvia', 'Greece', 'Brazil', 'Ghana', 'Poland', 'Venezuela', 'Romania', 'Benin', 'Iceland', 'Georgia', 'Luxembourg', 'Chile', 'Serbia', 'Singapore', 'Lebanon', 'South Africa', 'South Korea', 'Colombia', 'Croatia', 'Bulgaria', 'Taiwan', 'Peru', 'Estonia', 'Puerto Rico', 'Turkey'] are in the columns\"",
     "output_type": "error",
     "traceback": [
      "\u001b[0;31m---------------------------------------------------------------------------\u001b[0m",
      "\u001b[0;31mKeyError\u001b[0m                                  Traceback (most recent call last)",
      "\u001b[0;32m/tmp/ipykernel_12873/851352193.py\u001b[0m in \u001b[0;36m<module>\u001b[0;34m\u001b[0m\n\u001b[1;32m     10\u001b[0m \u001b[0mpandasdf\u001b[0m \u001b[0;34m=\u001b[0m \u001b[0mdaily_df\u001b[0m\u001b[0;34m.\u001b[0m\u001b[0mtoPandas\u001b[0m\u001b[0;34m(\u001b[0m\u001b[0;34m)\u001b[0m\u001b[0;34m\u001b[0m\u001b[0;34m\u001b[0m\u001b[0m\n\u001b[1;32m     11\u001b[0m \u001b[0;34m\u001b[0m\u001b[0m\n\u001b[0;32m---> 12\u001b[0;31m \u001b[0mpandasdf\u001b[0m\u001b[0;34m.\u001b[0m\u001b[0mpivot\u001b[0m\u001b[0;34m(\u001b[0m\u001b[0mcolumns\u001b[0m\u001b[0;34m=\u001b[0m\u001b[0mcountry_list\u001b[0m\u001b[0;34m)\u001b[0m\u001b[0;34m\u001b[0m\u001b[0;34m\u001b[0m\u001b[0m\n\u001b[0m\u001b[1;32m     13\u001b[0m \u001b[0;34m\u001b[0m\u001b[0m\n\u001b[1;32m     14\u001b[0m \u001b[0mspark_df\u001b[0m \u001b[0;34m=\u001b[0m \u001b[0mspark\u001b[0m\u001b[0;34m.\u001b[0m\u001b[0mcreateDataFrame\u001b[0m\u001b[0;34m(\u001b[0m\u001b[0mpandasdf\u001b[0m\u001b[0;34m)\u001b[0m\u001b[0;34m\u001b[0m\u001b[0;34m\u001b[0m\u001b[0m\n",
      "\u001b[0;32m~/monkey/venv/lib/python3.7/site-packages/pandas/core/frame.py\u001b[0m in \u001b[0;36mpivot\u001b[0;34m(self, index, columns, values)\u001b[0m\n\u001b[1;32m   7791\u001b[0m         \u001b[0;32mfrom\u001b[0m \u001b[0mpandas\u001b[0m\u001b[0;34m.\u001b[0m\u001b[0mcore\u001b[0m\u001b[0;34m.\u001b[0m\u001b[0mreshape\u001b[0m\u001b[0;34m.\u001b[0m\u001b[0mpivot\u001b[0m \u001b[0;32mimport\u001b[0m \u001b[0mpivot\u001b[0m\u001b[0;34m\u001b[0m\u001b[0;34m\u001b[0m\u001b[0m\n\u001b[1;32m   7792\u001b[0m \u001b[0;34m\u001b[0m\u001b[0m\n\u001b[0;32m-> 7793\u001b[0;31m         \u001b[0;32mreturn\u001b[0m \u001b[0mpivot\u001b[0m\u001b[0;34m(\u001b[0m\u001b[0mself\u001b[0m\u001b[0;34m,\u001b[0m \u001b[0mindex\u001b[0m\u001b[0;34m=\u001b[0m\u001b[0mindex\u001b[0m\u001b[0;34m,\u001b[0m \u001b[0mcolumns\u001b[0m\u001b[0;34m=\u001b[0m\u001b[0mcolumns\u001b[0m\u001b[0;34m,\u001b[0m \u001b[0mvalues\u001b[0m\u001b[0;34m=\u001b[0m\u001b[0mvalues\u001b[0m\u001b[0;34m)\u001b[0m\u001b[0;34m\u001b[0m\u001b[0;34m\u001b[0m\u001b[0m\n\u001b[0m\u001b[1;32m   7794\u001b[0m \u001b[0;34m\u001b[0m\u001b[0m\n\u001b[1;32m   7795\u001b[0m     _shared_docs[\n",
      "\u001b[0;32m~/monkey/venv/lib/python3.7/site-packages/pandas/core/reshape/pivot.py\u001b[0m in \u001b[0;36mpivot\u001b[0;34m(data, index, columns, values)\u001b[0m\n\u001b[1;32m    495\u001b[0m         \u001b[0;31m# error: Unsupported left operand type for + (\"ExtensionArray\")\u001b[0m\u001b[0;34m\u001b[0m\u001b[0;34m\u001b[0m\u001b[0;34m\u001b[0m\u001b[0m\n\u001b[1;32m    496\u001b[0m         indexed = data.set_index(\n\u001b[0;32m--> 497\u001b[0;31m             \u001b[0mcols\u001b[0m \u001b[0;34m+\u001b[0m \u001b[0mcolumns_listlike\u001b[0m\u001b[0;34m,\u001b[0m \u001b[0mappend\u001b[0m\u001b[0;34m=\u001b[0m\u001b[0mappend\u001b[0m  \u001b[0;31m# type: ignore[operator]\u001b[0m\u001b[0;34m\u001b[0m\u001b[0;34m\u001b[0m\u001b[0m\n\u001b[0m\u001b[1;32m    498\u001b[0m         )\n\u001b[1;32m    499\u001b[0m     \u001b[0;32melse\u001b[0m\u001b[0;34m:\u001b[0m\u001b[0;34m\u001b[0m\u001b[0;34m\u001b[0m\u001b[0m\n",
      "\u001b[0;32m~/monkey/venv/lib/python3.7/site-packages/pandas/util/_decorators.py\u001b[0m in \u001b[0;36mwrapper\u001b[0;34m(*args, **kwargs)\u001b[0m\n\u001b[1;32m    309\u001b[0m                     \u001b[0mstacklevel\u001b[0m\u001b[0;34m=\u001b[0m\u001b[0mstacklevel\u001b[0m\u001b[0;34m,\u001b[0m\u001b[0;34m\u001b[0m\u001b[0;34m\u001b[0m\u001b[0m\n\u001b[1;32m    310\u001b[0m                 )\n\u001b[0;32m--> 311\u001b[0;31m             \u001b[0;32mreturn\u001b[0m \u001b[0mfunc\u001b[0m\u001b[0;34m(\u001b[0m\u001b[0;34m*\u001b[0m\u001b[0margs\u001b[0m\u001b[0;34m,\u001b[0m \u001b[0;34m**\u001b[0m\u001b[0mkwargs\u001b[0m\u001b[0;34m)\u001b[0m\u001b[0;34m\u001b[0m\u001b[0;34m\u001b[0m\u001b[0m\n\u001b[0m\u001b[1;32m    312\u001b[0m \u001b[0;34m\u001b[0m\u001b[0m\n\u001b[1;32m    313\u001b[0m         \u001b[0;32mreturn\u001b[0m \u001b[0mwrapper\u001b[0m\u001b[0;34m\u001b[0m\u001b[0;34m\u001b[0m\u001b[0m\n",
      "\u001b[0;32m~/monkey/venv/lib/python3.7/site-packages/pandas/core/frame.py\u001b[0m in \u001b[0;36mset_index\u001b[0;34m(self, keys, drop, append, inplace, verify_integrity)\u001b[0m\n\u001b[1;32m   5449\u001b[0m \u001b[0;34m\u001b[0m\u001b[0m\n\u001b[1;32m   5450\u001b[0m         \u001b[0;32mif\u001b[0m \u001b[0mmissing\u001b[0m\u001b[0;34m:\u001b[0m\u001b[0;34m\u001b[0m\u001b[0;34m\u001b[0m\u001b[0m\n\u001b[0;32m-> 5451\u001b[0;31m             \u001b[0;32mraise\u001b[0m \u001b[0mKeyError\u001b[0m\u001b[0;34m(\u001b[0m\u001b[0;34mf\"None of {missing} are in the columns\"\u001b[0m\u001b[0;34m)\u001b[0m\u001b[0;34m\u001b[0m\u001b[0;34m\u001b[0m\u001b[0m\n\u001b[0m\u001b[1;32m   5452\u001b[0m \u001b[0;34m\u001b[0m\u001b[0m\n\u001b[1;32m   5453\u001b[0m         \u001b[0;32mif\u001b[0m \u001b[0minplace\u001b[0m\u001b[0;34m:\u001b[0m\u001b[0;34m\u001b[0m\u001b[0;34m\u001b[0m\u001b[0m\n",
      "\u001b[0;31mKeyError\u001b[0m: \"None of ['England', 'Portugal', 'Spain', 'United States', 'Germany', 'Belgium', 'Sweden', 'Italy', 'Canada', 'France', 'Australia', 'Netherlands', 'Israel', 'Switzerland', 'Austria', 'Scotland', 'Denmark', 'Czech Republic', 'United Arab Emirates', 'Slovenia', 'Wales', 'Northern Ireland', 'Argentina', 'Ireland', 'Finland', 'Malta', 'Mexico', 'Norway', 'Hungary', 'Gibraltar', 'Morocco', 'Latvia', 'Greece', 'Brazil', 'Ghana', 'Poland', 'Venezuela', 'Romania', 'Benin', 'Iceland', 'Georgia', 'Luxembourg', 'Chile', 'Serbia', 'Singapore', 'Lebanon', 'South Africa', 'South Korea', 'Colombia', 'Croatia', 'Bulgaria', 'Taiwan', 'Peru', 'Estonia', 'Puerto Rico', 'Turkey'] are in the columns\""
     ]
    }
   ],
   "source": [
    "# import pandas as pd\n",
    "\n",
    "\n",
    "# country_rows = daily_df.select('Country').collect()\n",
    "\n",
    "# country_list = [row.Country for row in country_rows]\n",
    "\n",
    "\n",
    "# # print(country_list)\n",
    "# pandasdf = daily_df.toPandas()\n",
    "\n",
    "# pandasdf.pivot(columns=country_list)\n",
    "\n",
    "# spark_df = spark.createDataFrame(pandasdf)\n",
    "\n",
    "# spark_df.columns"
   ]
  }
 ],
 "metadata": {
  "kernelspec": {
   "display_name": "Python 3.7.13 ('venv': venv)",
   "language": "python",
   "name": "python3"
  },
  "language_info": {
   "codemirror_mode": {
    "name": "ipython",
    "version": 3
   },
   "file_extension": ".py",
   "mimetype": "text/x-python",
   "name": "python",
   "nbconvert_exporter": "python",
   "pygments_lexer": "ipython3",
   "version": "3.7.13"
  },
  "orig_nbformat": 4,
  "vscode": {
   "interpreter": {
    "hash": "93af7c608b0f8e74bdfb49cbb8fb63d6964698f0fd3f1d7c5daa31ee5b134e5b"
   }
  }
 },
 "nbformat": 4,
 "nbformat_minor": 2
}
