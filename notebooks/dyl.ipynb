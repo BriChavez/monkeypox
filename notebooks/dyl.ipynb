{
 "cells": [
  {
   "cell_type": "code",
   "execution_count": 132,
   "metadata": {},
   "outputs": [],
   "source": [
    "from pyspark.sql import SparkSession\n",
    "import pyspark.sql.functions as sf\n",
    "import pyspark.sql.types as st\n",
    "from datetime import date\n",
    "\n",
    "spark = SparkSession.builder.getOrCreate()\n",
    "\n",
    "daily_country_confirmed_cases = \"./data/Daily_Country_Wise_Confirmed_Cases.csv\"\n",
    "\n",
    "daily_df = spark.read.csv(daily_country_confirmed_cases,inferSchema=True,header=True)\n"
   ]
  },
  {
   "cell_type": "code",
   "execution_count": 133,
   "metadata": {},
   "outputs": [],
   "source": [
    "# Change to importing this function\n",
    "def date_check():\n",
    "    today = date.today()\n",
    "    return str(today)\n",
    "\n",
    "from datetime import datetime, timedelta\n",
    "\n",
    "def date_minus_weeks(x:int) -> str:\n",
    "    \"\"\"\n",
    "    Returns a timedelta STRING\n",
    "    \"\"\"\n",
    "    return str(date.today() - timedelta(weeks = x))"
   ]
  },
  {
   "cell_type": "code",
   "execution_count": 134,
   "metadata": {},
   "outputs": [
    {
     "name": "stdout",
     "output_type": "stream",
     "text": [
      "+-------------+----------+----------+----------+----------+----------+----------+----------+----------+----------+----------+----------+----------+----------+----------+----------+----------+----------+----------+----------+----------+----------+----------+----------+----------+----------+----------+----------+----------+----------+----------+----------+----------+----------+----------+----------+----------+----------+----------+----------+----------+----------+----------+----------+----------+----------+----------+----------+----------+\n",
      "|      Country|2022-05-06|2022-05-12|2022-05-13|2022-05-15|2022-05-17|2022-05-18|2022-05-19|2022-05-20|2022-05-21|2022-05-23|2022-05-24|2022-05-25|2022-05-26|2022-05-27|2022-05-28|2022-05-29|2022-05-30|2022-05-31|2022-06-01|2022-06-02|2022-06-03|2022-06-04|2022-06-06|2022-06-07|2022-06-08|2022-06-09|2022-06-10|2022-06-11|2022-06-12|2022-06-13|2022-06-14|2022-06-15|2022-06-16|2022-06-17|2022-06-18|2022-06-19|2022-06-20|2022-06-21|2022-06-22|2022-06-23|2022-06-24|2022-06-25|2022-06-26|2022-06-27|2022-06-28|2022-06-29|2022-06-30|2022-07-01|\n",
      "+-------------+----------+----------+----------+----------+----------+----------+----------+----------+----------+----------+----------+----------+----------+----------+----------+----------+----------+----------+----------+----------+----------+----------+----------+----------+----------+----------+----------+----------+----------+----------+----------+----------+----------+----------+----------+----------+----------+----------+----------+----------+----------+----------+----------+----------+----------+----------+----------+----------+\n",
      "|United States|         0|         0|         0|         0|         0|         1|         0|         1|         0|         0|         0|         2|         5|         3|         0|         2|         0|         5|         0|         4|         5|         0|         1|         6|         5|         5|         2|         2|         0|        16|         7|        12|        16|        13|         0|         0|         0|        29|        14|        17|        28|         0|         0|        43|        62|        45|        44|        64|\n",
      "|      Germany|         0|         0|         0|         0|         0|         0|         1|         1|         2|         2|         6|         1|         2|         6|         1|         0|         3|        16|         0|        17|        17|         5|         0|        27|        13|        30|        12|         0|         1|        25|        14|        45|        24|        87|         1|         0|        13|        66|        54|        74|        52|         0|         0|       145|        65|        35|       106|        85|\n",
      "|        Italy|         0|         0|         0|         0|         0|         0|         1|         2|         0|         1|         1|         4|         3|         0|         0|         1|         0|         6|         2|         0|         1|         0|         6|         1|         2|         0|         1|         5|         0|         0|         1|        10|         0|        23|         0|         0|         0|        14|         0|         0|        42|         0|         0|         0|        32|         0|         0|        33|\n",
      "|  Switzerland|         0|         0|         0|         0|         0|         0|         0|         0|         1|         0|         1|         0|         1|         1|         0|         0|         0|         0|         0|         2|         2|         0|         0|         2|         2|         0|         2|         0|         0|         5|         1|         8|         2|         1|         0|         0|         9|         1|         5|         6|         3|         0|         0|        13|         4|         9|         2|         8|\n",
      "|      Austria|         0|         0|         0|         0|         0|         0|         0|         0|         0|         1|         0|         0|         0|         0|         0|         0|         0|         0|         0|         0|         0|         0|         0|         0|         0|         0|         0|         0|         0|         2|         0|         1|         0|         7|         0|         0|         0|         1|         0|         0|         8|         0|         0|         0|         0|         0|         0|        17|\n",
      "+-------------+----------+----------+----------+----------+----------+----------+----------+----------+----------+----------+----------+----------+----------+----------+----------+----------+----------+----------+----------+----------+----------+----------+----------+----------+----------+----------+----------+----------+----------+----------+----------+----------+----------+----------+----------+----------+----------+----------+----------+----------+----------+----------+----------+----------+----------+----------+----------+----------+\n",
      "\n"
     ]
    }
   ],
   "source": [
    "# Showing the change of cases over a month\n",
    "# daily_df.select('Country',daily_df[-1]).where(daily_df[-1] >= 1).show()\n",
    "\n",
    "# Convert to transpose\n",
    "\n",
    "daily_df.select('*').where(daily_df[-1] >= 1).show()"
   ]
  },
  {
   "cell_type": "code",
   "execution_count": 135,
   "metadata": {},
   "outputs": [
    {
     "name": "stdout",
     "output_type": "stream",
     "text": [
      "+-------------+----------+----------+\n",
      "|      Country|2022-06-22|2022-06-29|\n",
      "+-------------+----------+----------+\n",
      "|     Portugal|        13|        18|\n",
      "|United States|        14|        45|\n",
      "|      Germany|        54|        35|\n",
      "|       Canada|         0|        12|\n",
      "|       Brazil|         2|        16|\n",
      "+-------------+----------+----------+\n",
      "\n"
     ]
    },
    {
     "name": "stdout",
     "output_type": "stream",
     "text": [
      "22/07/07 08:15:59 WARN HeartbeatReceiver: Removing executor driver with no recent heartbeats: 55163239 ms exceeds timeout 120000 ms\n",
      "22/07/07 08:15:59 WARN SparkContext: Killing executors is not supported by current scheduler.\n"
     ]
    }
   ],
   "source": [
    "# Shows the change over 1 week\n",
    "daily_df.select('Country', daily_df[date_minus_weeks(2)],daily_df[date_minus_weeks(1)]).where(daily_df[date_minus_weeks(1)] > 10).show()"
   ]
  },
  {
   "cell_type": "code",
   "execution_count": 43,
   "metadata": {},
   "outputs": [
    {
     "name": "stdout",
     "output_type": "stream",
     "text": [
      "+--------------------+----------+----------+----------+----------+----------+----------+----------+\n",
      "|             Country|2022-05-18|2022-05-25|2022-06-01|2022-06-08|2022-06-15|2022-06-22|2022-06-29|\n",
      "+--------------------+----------+----------+----------+----------+----------+----------+----------+\n",
      "|             England|         2|         7|         5|         0|         0|         0|         0|\n",
      "|            Portugal|        11|        10|        19|        25|        10|        13|        18|\n",
      "|               Spain|         7|         8|         0|        34|         0|         0|         0|\n",
      "|       United States|         1|         2|         0|         5|        12|        14|        45|\n",
      "|             Germany|         0|         1|         0|        13|        45|        54|        35|\n",
      "|             Belgium|         0|         2|         5|         8|        27|         0|         0|\n",
      "|              Sweden|         0|         1|         0|         0|         4|         0|         0|\n",
      "|               Italy|         0|         4|         2|         2|        10|         0|         0|\n",
      "|              Canada|         0|         0|        27|         1|         0|         0|        12|\n",
      "|              France|         0|         2|        16|         0|         0|         0|         0|\n",
      "|           Australia|         0|         0|         0|         0|         2|         0|         0|\n",
      "|         Netherlands|         0|         6|         0|         0|         0|        72|         0|\n",
      "|              Israel|         0|         0|         0|         0|         1|         2|         5|\n",
      "|         Switzerland|         0|         0|         0|         2|         8|         5|         9|\n",
      "|             Austria|         0|         0|         0|         0|         1|         0|         0|\n",
      "|            Scotland|         0|         0|         1|         0|         0|         0|         0|\n",
      "|             Denmark|         0|         0|         0|         0|         0|         1|         2|\n",
      "|      Czech Republic|         0|         0|         0|         0|         0|         1|         0|\n",
      "|United Arab Emirates|         0|         0|         4|         0|         0|         0|         0|\n",
      "|            Slovenia|         0|         1|         0|         0|         0|         0|         0|\n",
      "+--------------------+----------+----------+----------+----------+----------+----------+----------+\n",
      "only showing top 20 rows\n",
      "\n"
     ]
    }
   ],
   "source": [
    "daily_df.select(\n",
    "    'Country',\n",
    "    daily_df[date_minus_weeks(7)],\n",
    "    daily_df[date_minus_weeks(6)],\n",
    "    daily_df[date_minus_weeks(5)],\n",
    "    daily_df[date_minus_weeks(4)],\n",
    "    daily_df[date_minus_weeks(3)],\n",
    "    daily_df[date_minus_weeks(2)],\n",
    "    daily_df[date_minus_weeks(1)])\\\n",
    "        .show()"
   ]
  },
  {
   "cell_type": "code",
   "execution_count": 77,
   "metadata": {},
   "outputs": [
    {
     "name": "stdout",
     "output_type": "stream",
     "text": [
      "+---------------+---------------+---------------+---------------+---------------+---------------+---------------+---------------+---------------+---------------+---------------+---------------+---------------+---------------+---------------+---------------+---------------+---------------+---------------+---------------+---------------+---------------+---------------+---------------+---------------+---------------+---------------+---------------+---------------+---------------+---------------+---------------+---------------+---------------+---------------+---------------+---------------+---------------+---------------+---------------+---------------+---------------+---------------+---------------+---------------+---------------+---------------+---------------+----------+\n",
      "|sum(2022-05-06)|sum(2022-05-12)|sum(2022-05-13)|sum(2022-05-15)|sum(2022-05-17)|sum(2022-05-18)|sum(2022-05-19)|sum(2022-05-20)|sum(2022-05-21)|sum(2022-05-23)|sum(2022-05-24)|sum(2022-05-25)|sum(2022-05-26)|sum(2022-05-27)|sum(2022-05-28)|sum(2022-05-29)|sum(2022-05-30)|sum(2022-05-31)|sum(2022-06-01)|sum(2022-06-02)|sum(2022-06-03)|sum(2022-06-04)|sum(2022-06-06)|sum(2022-06-07)|sum(2022-06-08)|sum(2022-06-09)|sum(2022-06-10)|sum(2022-06-11)|sum(2022-06-12)|sum(2022-06-13)|sum(2022-06-14)|sum(2022-06-15)|sum(2022-06-16)|sum(2022-06-17)|sum(2022-06-18)|sum(2022-06-19)|sum(2022-06-20)|sum(2022-06-21)|sum(2022-06-22)|sum(2022-06-23)|sum(2022-06-24)|sum(2022-06-25)|sum(2022-06-26)|sum(2022-06-27)|sum(2022-06-28)|sum(2022-06-29)|sum(2022-06-30)|sum(2022-07-01)|sum(total)|\n",
      "+---------------+---------------+---------------+---------------+---------------+---------------+---------------+---------------+---------------+---------------+---------------+---------------+---------------+---------------+---------------+---------------+---------------+---------------+---------------+---------------+---------------+---------------+---------------+---------------+---------------+---------------+---------------+---------------+---------------+---------------+---------------+---------------+---------------+---------------+---------------+---------------+---------------+---------------+---------------+---------------+---------------+---------------+---------------+---------------+---------------+---------------+---------------+---------------+----------+\n",
      "|              1|              1|              1|              4|              3|             21|             16|             46|             16|             73|             34|             44|             88|             51|             16|             15|            123|             66|             83|            125|             94|              7|            114|            150|             97|            146|             42|              9|            107|             58|            243|            146|            371|            196|              1|              1|            290|            273|            167|            436|            329|              3|            168|            367|            366|            147|            816|            207|      6178|\n",
      "+---------------+---------------+---------------+---------------+---------------+---------------+---------------+---------------+---------------+---------------+---------------+---------------+---------------+---------------+---------------+---------------+---------------+---------------+---------------+---------------+---------------+---------------+---------------+---------------+---------------+---------------+---------------+---------------+---------------+---------------+---------------+---------------+---------------+---------------+---------------+---------------+---------------+---------------+---------------+---------------+---------------+---------------+---------------+---------------+---------------+---------------+---------------+---------------+----------+\n",
      "\n"
     ]
    }
   ],
   "source": [
    "# Worldwide total, sum of all.\n",
    "from functools import reduce\n",
    "\n",
    "def column_add(a,b):\n",
    "     return  a.__add__(b)\n",
    "agg1_df = daily_df.drop('Country')\n",
    "\n",
    "# def column_add(a:int,b:int):\n",
    "#      if type(a) == int and type(b) == int:\n",
    "#           return  a+b\n",
    "#      else:\n",
    "#           pass\n",
    "\n",
    "agg1_df = agg1_df.withColumn('total', reduce(column_add, (agg1_df[col] for col in agg1_df.columns)))\n",
    "agg1_df.groupBy().sum().show()\n",
    "\n",
    "# daily_df.withColumn('totals', reduce(column_add, (daily_df[col] for col in daily_df.columns))).show()\n",
    "\n",
    "# daily_df.drop(daily_df['Country']).withColumn('total_col', reduce(column_add, (daily_df[col] for col in daily_df.columns))).show()\n",
    "\n"
   ]
  },
  {
   "cell_type": "code",
   "execution_count": 137,
   "metadata": {},
   "outputs": [],
   "source": [
    "# Create dataframe for region totals daily totals and sums\n",
    "\n",
    "africa = [\"Algeria\", \"Angola\", \"Benin\", \"Botswana\", \"Burkina Faso\", \"Burundi\", \"Cameroon\", \"Cape Verde\", \"Central African Republic\",\n",
    "    \"Chad\", \"Comoros\", \"Cote d'Ivoire\", \"Democratic Republic of the Congo\", \"Djibouti\", \"Egypt\", \"Equatorial Guinea\", \"Eritrea\",\n",
    "    \"Ethiopia\", \"Gabon\", \"Gambia\", \"Ghana\", \"Guinea\", \"Guinea-Bissau\", \"Kenya\", \"Lesotho\", \"Liberia\", \"Libya\", \"Madagascar\", \"Malawi\",\n",
    "    \"Mali\", \"Mauritania\", \"Mauritius\", \"Morocco\", \"Mozambique\", \"Namibia\", \"Niger\", \"Nigeria\", \"Republic of the Congo\", \"Reunion\",\n",
    "    \"Rwanda\", \"Saint Helena\", \"Sao Tome and Principe\", \"Senegal\", \"Seychelles\", \"Sierra Leone\", \"Somalia\", \"South Africa\", \"South Sudan\", \n",
    "    \"Sudan\", \"Swaziland\", \"Tanzania\", \"Togo\", \"Tunisia\", \"Uganda\", \"Western Sahara\", \"Zambia\", \"Zimbabwe\"]\n",
    "\n",
    "asia = [\"Afghanistan\", \"Armenia\", \"Azerbaijan\", \"Bahrain\", \"Bangladesh\", \"Bhutan\", \"Brunei\", \"Burma\", \"Cambodia\", \"China\", \"Cyprus\",\n",
    "    \"East Timor\", \"Georgia\", \"Hong Kong\", \"India\", \"Indonesia\", \"Iran\", \"Iraq\", \"Israel\", \"Japan\", \"Jordan\", \"Kazakhstan\", \"Kuwait\",\n",
    "    \"Kyrgyzstan\", \"Laos\", \"Lebanon\", \"Macau\", \"Malaysia\", \"Maldives\", \"Mongolia\", \"Nepal\", \"North Korea\", \"Oman\", \"Pakistan\", \"Philippines\",\n",
    "    \"Qatar\", \"Saudi Arabia\", \"Singapore\", \"South Korea\", \"Sri Lanka\", \"Syria\", \"Taiwan\", \"Tajikistan\", \"Thailand\", \"Turkey\", \"Turkmenistan\",\n",
    "    \"United Arab Emirates\", \"Uzbekistan\", \"Vietnam\", \"Yemen\"]\n",
    "\n",
    "caribbean = [\"Anguilla\", \"Antigua and Barbuda\", \"Aruba\", \"The Bahamas\", \"Barbados\", \"Bermuda\", \"British Virgin Islands\", \"Cayman Islands\",\n",
    "    \"Cuba\", \"Dominica\", \"Dominican Republic\", \"Grenada\", \"Guadeloupe\", \"Haiti\", \"Jamaica\", \"Martinique\", \"Montserrat\", \"Netherlands Antilles\",\n",
    "    \"Puerto Rico\", \"Saint Kitts and Nevis\", \"Saint Lucia\", \"Saint Vincent and the Grenadines\", \"Trinidad and Tobago\", \"Turks and Caicos Islands\", \"U.S. Virgin Islands\"]\n",
    "\n",
    "central_america = [\"Belize\", \"Costa Rica\", \"El Salvador\", \"Guatemala\", \"Honduras\", \"Nicaragua\", \"Panama\"]\n",
    "\n",
    "europe = [\"Albania\", \"Andorra\", \"Austria\", \"Belarus\", \"Belgium\", \"Bosnia and Herzegovina\", \"Bulgaria\", \"Croatia\", \n",
    "    \"Czech Republic\", \"Denmark\", \"Estonia\", \"Finland\", \"France\", \"Germany\", \"Gibraltar\", \"Greece\", \"Holy See\", \"Hungary\", \"Iceland\", \"Ireland\", \"Italy\", \"Kosovo\", \"Latvia\",\n",
    "    \"Liechtenstein\", \"Lithuania\", \"Luxembourg\", \"Macedonia\", \"Malta\", \"Moldova\", \"Monaco\", \"Montenegro\", \"Netherlands\", \"Norway\", \"Poland\", \"Portugal\", \"Romania\", \"Russia\", \n",
    "    \"San Marino\", \"Slovak Republic\", \"Slovenia\", \"Spain\", \"Serbia\", \"Serbia and Montenegro\", \"Sweden\", \"Switzerland\", \"Ukraine\", \"United Kingdom\", \"Northern Ireland\", \"Wales\"]\n",
    "\n",
    "north_america = [\"Canada\", \"Greenland\", \"Mexico\", \"Saint Pierre and Miquelon\", \"United States\"]\n",
    "\n",
    "oceania = [\"American Samoa\", \"Australia\", \"Christmas Island\", \"Cocos (Keeling) Islands\", \"Cook Islands\", \"Federated States of Micronesia\", \"Fiji\", \"French Polynesia\", \n",
    "    \"Guam\", \"Kiribati\", \"Marshall Islands\", \"Nauru\", \"New Caledonia\", \"New Zealand\", \"Niue\", \"Northern Mariana Islands\", \"Palau\", \"Papua New Guinea\", \"Pitcairn Islands\",\n",
    "    \"Samoa\", \"Solomon Islands\", \"Tokelau\", \"Tonga\", \"Tuvalu\", \"Vanuatu\", \"Wallis and Futuna Islands\"]\n",
    "\n",
    "south_america = [\"Argentina\", \"Bolivia\", \"Brazil\", \"Chile\", \"Colombia\", \"Ecuador\", \"Falkland Islands\", \"French Guiana\", \"Guyana\", \"Paraguay\", \"Peru\", \"Suriname\", \"Uruguay\",\n",
    "    \"Venezuela\"]"
   ]
  },
  {
   "cell_type": "code",
   "execution_count": 169,
   "metadata": {},
   "outputs": [],
   "source": [
    "# ASIA TOTALS\n",
    "\n",
    "from pyspark.sql.functions import col\n",
    "from pyspark.sql.types import StringType\n",
    "\n",
    "# Total daily average. EACH DATE HAS A SUM FUNCTION RAN OVER IT\n",
    "\n",
    "asia_df = daily_df.filter(daily_df['Country'].isin(asia))\n",
    "\n",
    "asia_df = asia_df.agg(*[sf.sum(asia_df[c_name]) for c_name in asia_df.columns])\n",
    "\n",
    "asia_df = asia_df.withColumn('sum(Country)', col('sum(Country)').cast(StringType()))\n",
    "\n",
    "asia_df = asia_df.na.fill(value='asia_totals')"
   ]
  },
  {
   "cell_type": "code",
   "execution_count": 171,
   "metadata": {},
   "outputs": [],
   "source": [
    "# Africa\n",
    "africa_df = daily_df.where(daily_df['Country'].isin(africa))\n",
    "\n",
    "africa_df = africa_df.agg(*[sf.sum(africa_df[c_name])for c_name in africa_df.columns])\n",
    "\n",
    "africa_df = africa_df.withColumn('sum(Country)', col('sum(Country)').cast(StringType()))\n",
    "\n",
    "africa_df = africa_df.na.fill(value='africa_totals')"
   ]
  },
  {
   "cell_type": "code",
   "execution_count": 172,
   "metadata": {},
   "outputs": [],
   "source": [
    "# Caribbean\n",
    "caribbean_df = daily_df.where(daily_df['Country'].isin(caribbean))\n",
    "\n",
    "caribbean_df = caribbean_df.agg(*[sf.sum(caribbean_df[c_name])for c_name in caribbean_df.columns])\n",
    "\n",
    "caribbean_df = caribbean_df.withColumn('sum(Country)', col('sum(Country)').cast(StringType()))\n",
    "\n",
    "caribbean_df = caribbean_df.na.fill(value='caribbean_totals')"
   ]
  },
  {
   "cell_type": "code",
   "execution_count": 173,
   "metadata": {},
   "outputs": [],
   "source": [
    "# Central America\n",
    "\n",
    "central_america_df = daily_df.where(daily_df['Country'].isin(central_america))\n",
    "\n",
    "central_america_df = central_america_df.agg(*[sf.sum(central_america_df[c_name])for c_name in central_america_df.columns])\n",
    "\n",
    "central_america_df = central_america_df.withColumn('sum(Country)', col('sum(Country)').cast(StringType()))\n",
    "\n",
    "central_america_df = central_america_df.na.fill(value='central_america_totals')"
   ]
  },
  {
   "cell_type": "code",
   "execution_count": 174,
   "metadata": {},
   "outputs": [],
   "source": [
    "# Europe\n",
    "\n",
    "europe_df = daily_df.where(daily_df['Country'].isin(europe))\n",
    "\n",
    "europe_df = europe_df.agg(*[sf.sum(europe_df[c_name])for c_name in europe_df.columns])\n",
    "\n",
    "europe_df = europe_df.withColumn('sum(Country)', col('sum(Country)').cast(StringType()))\n",
    "\n",
    "europe_df = europe_df.na.fill(value='europe_totals')"
   ]
  },
  {
   "cell_type": "code",
   "execution_count": 176,
   "metadata": {},
   "outputs": [],
   "source": [
    "# North America\n",
    "\n",
    "north_america_df = daily_df.where(daily_df['Country'].isin(north_america))\n",
    "\n",
    "north_america_df = north_america_df.agg(*[sf.sum(north_america_df[c_name])for c_name in north_america_df.columns])\n",
    "\n",
    "north_america_df = north_america_df.withColumn('sum(Country)', col('sum(Country)').cast(StringType()))\n",
    "\n",
    "north_america_df = north_america_df.na.fill(value='north_america_totals')"
   ]
  },
  {
   "cell_type": "code",
   "execution_count": 177,
   "metadata": {},
   "outputs": [],
   "source": [
    "# Oceania\n",
    "\n",
    "oceania_df = daily_df.where(daily_df['Country'].isin(oceania))\n",
    "\n",
    "oceania_df = oceania_df.agg(*[sf.sum(oceania_df[c_name])for c_name in oceania_df.columns])\n",
    "\n",
    "oceania_df = oceania_df.withColumn('sum(Country)', col('sum(Country)').cast(StringType()))\n",
    "\n",
    "oceania_df = oceania_df.na.fill(value='oceania_totals')"
   ]
  },
  {
   "cell_type": "code",
   "execution_count": 178,
   "metadata": {},
   "outputs": [],
   "source": [
    "# South America\n",
    "\n",
    "south_america_df = daily_df.where(daily_df['Country'].isin(south_america))\n",
    "\n",
    "south_america_df = south_america_df.agg(*[sf.sum(south_america_df[c_name])for c_name in south_america_df.columns])\n",
    "\n",
    "south_america_df = south_america_df.withColumn('sum(Country)', col('sum(Country)').cast(StringType()))\n",
    "\n",
    "south_america_df = south_america_df.na.fill(value='south_america_totals')"
   ]
  },
  {
   "cell_type": "code",
   "execution_count": 190,
   "metadata": {},
   "outputs": [
    {
     "name": "stdout",
     "output_type": "stream",
     "text": [
      "+--------------------+---------------+---------------+---------------+---------------+---------------+---------------+---------------+---------------+---------------+---------------+---------------+---------------+---------------+---------------+---------------+---------------+---------------+---------------+---------------+---------------+---------------+---------------+---------------+---------------+---------------+---------------+---------------+---------------+---------------+---------------+---------------+---------------+---------------+---------------+---------------+---------------+---------------+---------------+---------------+---------------+---------------+---------------+---------------+---------------+---------------+---------------+---------------+---------------+\n",
      "|              region|sum(2022-05-06)|sum(2022-05-12)|sum(2022-05-13)|sum(2022-05-15)|sum(2022-05-17)|sum(2022-05-18)|sum(2022-05-19)|sum(2022-05-20)|sum(2022-05-21)|sum(2022-05-23)|sum(2022-05-24)|sum(2022-05-25)|sum(2022-05-26)|sum(2022-05-27)|sum(2022-05-28)|sum(2022-05-29)|sum(2022-05-30)|sum(2022-05-31)|sum(2022-06-01)|sum(2022-06-02)|sum(2022-06-03)|sum(2022-06-04)|sum(2022-06-06)|sum(2022-06-07)|sum(2022-06-08)|sum(2022-06-09)|sum(2022-06-10)|sum(2022-06-11)|sum(2022-06-12)|sum(2022-06-13)|sum(2022-06-14)|sum(2022-06-15)|sum(2022-06-16)|sum(2022-06-17)|sum(2022-06-18)|sum(2022-06-19)|sum(2022-06-20)|sum(2022-06-21)|sum(2022-06-22)|sum(2022-06-23)|sum(2022-06-24)|sum(2022-06-25)|sum(2022-06-26)|sum(2022-06-27)|sum(2022-06-28)|sum(2022-06-29)|sum(2022-06-30)|sum(2022-07-01)|\n",
      "+--------------------+---------------+---------------+---------------+---------------+---------------+---------------+---------------+---------------+---------------+---------------+---------------+---------------+---------------+---------------+---------------+---------------+---------------+---------------+---------------+---------------+---------------+---------------+---------------+---------------+---------------+---------------+---------------+---------------+---------------+---------------+---------------+---------------+---------------+---------------+---------------+---------------+---------------+---------------+---------------+---------------+---------------+---------------+---------------+---------------+---------------+---------------+---------------+---------------+\n",
      "|south_america_totals|              0|              0|              0|              0|              0|              0|              0|              0|              0|              0|              0|              0|              0|              2|              0|              0|              0|              0|              0|              0|              0|              0|              0|              0|              1|              1|              0|              1|              2|              0|              2|              0|              1|              2|              0|              1|              1|              3|              2|             11|              1|              2|              2|              0|              4|             16|              1|              0|\n",
      "|      oceania_totals|              0|              0|              0|              0|              0|              0|              0|              2|              0|              0|              0|              0|              0|              0|              0|              0|              0|              0|              0|              2|              1|              1|              0|              0|              0|              2|              0|              0|              0|              0|              0|              2|              1|              0|              0|              0|              0|              0|              0|              0|              0|              0|              0|              0|              0|              0|              1|              0|\n",
      "|north_america_totals|              0|              0|              0|              0|              0|              1|              2|              4|              0|             10|              0|              2|             16|              3|              1|              2|              0|              6|             27|             27|              8|              0|              2|             26|              6|             16|              5|              3|              0|             24|             41|             12|             27|             28|              0|              0|              0|             62|             14|             42|             28|              0|              0|             65|             82|             57|             44|             64|\n",
      "|         asia_totals|              0|              0|              0|              0|              0|              0|              0|              0|              1|              0|              1|              0|              0|              0|              1|              3|              0|              0|              4|              0|              0|              0|              0|              6|              0|              1|              0|              0|              0|              0|              0|              2|              0|              0|              0|              0|              2|              6|              3|              0|              4|              0|              0|             13|              4|              5|              5|              0|\n",
      "|       africa_totals|              0|              0|              0|              0|              0|              0|              0|              0|              0|              0|              0|              0|              0|              0|              0|              0|              0|              0|              0|              1|              0|              0|              0|              0|              5|              0|              0|              0|              0|              0|             16|              0|              0|              0|              0|              0|              0|              0|              1|              0|              0|              0|              0|              0|              1|              0|              0|              0|\n",
      "|       africa_totals|              0|              0|              0|              0|              0|              0|              0|              0|              0|              0|              0|              0|              0|              0|              0|              0|              0|              0|              0|              0|              0|              0|              0|              0|              0|              0|              0|              0|              0|              0|              0|              0|              0|              0|              0|              0|              0|              0|              0|              0|              0|              0|              0|              0|              0|              1|              0|              0|\n",
      "|       europe_totals|              0|              0|              0|              0|              3|             18|             14|             29|             15|             26|             19|             35|             46|             46|             14|             10|             51|             49|             46|             84|             67|              6|             37|             99|             85|             82|             37|              5|              1|             34|            131|            130|            293|            166|              1|              0|             69|            202|            147|            383|            181|              1|              3|            289|            275|             68|            608|            143|\n",
      "+--------------------+---------------+---------------+---------------+---------------+---------------+---------------+---------------+---------------+---------------+---------------+---------------+---------------+---------------+---------------+---------------+---------------+---------------+---------------+---------------+---------------+---------------+---------------+---------------+---------------+---------------+---------------+---------------+---------------+---------------+---------------+---------------+---------------+---------------+---------------+---------------+---------------+---------------+---------------+---------------+---------------+---------------+---------------+---------------+---------------+---------------+---------------+---------------+---------------+\n",
      "\n"
     ]
    }
   ],
   "source": [
    "# All region dataframe\n",
    "\n",
    "region_df_list = ['south_america_df', 'oceania_df', 'north_america_df', 'asia_df', 'africa_df', 'caribbean_df', 'europe_df']\n",
    "\n",
    "region_df = south_america_df.union(oceania_df)\n",
    "\n",
    "region_df = region_df.union(north_america_df)\n",
    "\n",
    "region_df = region_df.union(asia_df)\n",
    "\n",
    "region_df = region_df.union(africa_df)\n",
    "\n",
    "region_df = region_df.union(caribbean_df)\n",
    "\n",
    "region_df = region_df.union(europe_df)\n",
    "\n",
    "region_df = region_df.withColumnRenamed('sum(Country)', 'region')\n",
    "\n",
    "region_df.show()"
   ]
  }
 ],
 "metadata": {
  "kernelspec": {
   "display_name": "Python 3.7.13 ('venv': venv)",
   "language": "python",
   "name": "python3"
  },
  "language_info": {
   "codemirror_mode": {
    "name": "ipython",
    "version": 3
   },
   "file_extension": ".py",
   "mimetype": "text/x-python",
   "name": "python",
   "nbconvert_exporter": "python",
   "pygments_lexer": "ipython3",
   "version": "3.7.13"
  },
  "orig_nbformat": 4,
  "vscode": {
   "interpreter": {
    "hash": "93af7c608b0f8e74bdfb49cbb8fb63d6964698f0fd3f1d7c5daa31ee5b134e5b"
   }
  }
 },
 "nbformat": 4,
 "nbformat_minor": 2
}
