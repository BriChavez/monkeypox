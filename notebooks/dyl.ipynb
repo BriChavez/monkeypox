{
 "cells": [
  {
   "cell_type": "code",
   "execution_count": 5,
   "metadata": {},
   "outputs": [],
   "source": [
    "from pyspark.sql import SparkSession\n",
    "import pyspark.sql.functions as sf\n",
    "import pyspark.sql.types as st\n",
    "from datetime import date\n",
    "\n",
    "spark = SparkSession.builder.getOrCreate()\n",
    "\n",
    "daily_country_confirmed_cases = \"./data/Daily_Country_Wise_Confirmed_Cases.csv\"\n",
    "\n",
    "daily_df = spark.read.csv(daily_country_confirmed_cases,inferSchema=True,header=True)\n"
   ]
  },
  {
   "cell_type": "code",
   "execution_count": 32,
   "metadata": {},
   "outputs": [],
   "source": [
    "# Change to importing this function\n",
    "def date_check():\n",
    "    today = date.today()\n",
    "    return str(today)\n",
    "\n",
    "from datetime import datetime, timedelta\n",
    "\n",
    "def date_minus_weeks(x:int) -> str:\n",
    "    \"\"\"\n",
    "    Returns a timedelta STRING\n",
    "    \"\"\"\n",
    "    return str(date.today() - timedelta(weeks = x))"
   ]
  },
  {
   "cell_type": "code",
   "execution_count": 29,
   "metadata": {},
   "outputs": [
    {
     "name": "stdout",
     "output_type": "stream",
     "text": [
      "+-------------+----------+----------+\n",
      "|      Country|2022-05-06|2022-06-06|\n",
      "+-------------+----------+----------+\n",
      "|      England|         1|        73|\n",
      "|     Portugal|         0|        10|\n",
      "|        Spain|         0|        17|\n",
      "|United States|         0|         1|\n",
      "|        Italy|         0|         6|\n",
      "|       Canada|         0|         1|\n",
      "|     Scotland|         0|         2|\n",
      "|     Slovenia|         0|         3|\n",
      "|        Wales|         0|         1|\n",
      "+-------------+----------+----------+\n",
      "\n"
     ]
    }
   ],
   "source": [
    "# Showing the change of cases over a month\n",
    "daily_df.select('Country','2022-05-06', '2022-06-06').where(daily_df['2022-06-06'] >= 1).show()"
   ]
  },
  {
   "cell_type": "code",
   "execution_count": 37,
   "metadata": {},
   "outputs": [
    {
     "name": "stdout",
     "output_type": "stream",
     "text": [
      "+-------------+----------+----------+\n",
      "|      Country|2022-06-22|2022-06-29|\n",
      "+-------------+----------+----------+\n",
      "|     Portugal|        13|        18|\n",
      "|United States|        14|        45|\n",
      "|      Germany|        54|        35|\n",
      "|       Canada|         0|        12|\n",
      "|       Brazil|         2|        16|\n",
      "+-------------+----------+----------+\n",
      "\n"
     ]
    }
   ],
   "source": [
    "# Shows the change over 1 week\n",
    "daily_df.select('Country', daily_df[date_minus_weeks(2)],daily_df[date_minus_weeks(1)]).where(daily_df[date_minus_weeks(1)] > 10).show()"
   ]
  },
  {
   "cell_type": "code",
   "execution_count": 43,
   "metadata": {},
   "outputs": [
    {
     "name": "stdout",
     "output_type": "stream",
     "text": [
      "+--------------------+----------+----------+----------+----------+----------+----------+----------+\n",
      "|             Country|2022-05-18|2022-05-25|2022-06-01|2022-06-08|2022-06-15|2022-06-22|2022-06-29|\n",
      "+--------------------+----------+----------+----------+----------+----------+----------+----------+\n",
      "|             England|         2|         7|         5|         0|         0|         0|         0|\n",
      "|            Portugal|        11|        10|        19|        25|        10|        13|        18|\n",
      "|               Spain|         7|         8|         0|        34|         0|         0|         0|\n",
      "|       United States|         1|         2|         0|         5|        12|        14|        45|\n",
      "|             Germany|         0|         1|         0|        13|        45|        54|        35|\n",
      "|             Belgium|         0|         2|         5|         8|        27|         0|         0|\n",
      "|              Sweden|         0|         1|         0|         0|         4|         0|         0|\n",
      "|               Italy|         0|         4|         2|         2|        10|         0|         0|\n",
      "|              Canada|         0|         0|        27|         1|         0|         0|        12|\n",
      "|              France|         0|         2|        16|         0|         0|         0|         0|\n",
      "|           Australia|         0|         0|         0|         0|         2|         0|         0|\n",
      "|         Netherlands|         0|         6|         0|         0|         0|        72|         0|\n",
      "|              Israel|         0|         0|         0|         0|         1|         2|         5|\n",
      "|         Switzerland|         0|         0|         0|         2|         8|         5|         9|\n",
      "|             Austria|         0|         0|         0|         0|         1|         0|         0|\n",
      "|            Scotland|         0|         0|         1|         0|         0|         0|         0|\n",
      "|             Denmark|         0|         0|         0|         0|         0|         1|         2|\n",
      "|      Czech Republic|         0|         0|         0|         0|         0|         1|         0|\n",
      "|United Arab Emirates|         0|         0|         4|         0|         0|         0|         0|\n",
      "|            Slovenia|         0|         1|         0|         0|         0|         0|         0|\n",
      "+--------------------+----------+----------+----------+----------+----------+----------+----------+\n",
      "only showing top 20 rows\n",
      "\n"
     ]
    }
   ],
   "source": [
    "daily_df.select(\n",
    "    'Country',  \n",
    "    daily_df[date_minus_weeks(7)],\n",
    "    daily_df[date_minus_weeks(6)],\n",
    "    daily_df[date_minus_weeks(5)],\n",
    "    daily_df[date_minus_weeks(4)],\n",
    "    daily_df[date_minus_weeks(3)],\n",
    "    daily_df[date_minus_weeks(2)],\n",
    "    daily_df[date_minus_weeks(1)]) \\\n",
    "        .show()"
   ]
  }
 ],
 "metadata": {
  "kernelspec": {
   "display_name": "Python 3.7.13 ('venv': venv)",
   "language": "python",
   "name": "python3"
  },
  "language_info": {
   "codemirror_mode": {
    "name": "ipython",
    "version": 3
   },
   "file_extension": ".py",
   "mimetype": "text/x-python",
   "name": "python",
   "nbconvert_exporter": "python",
   "pygments_lexer": "ipython3",
   "version": "3.7.13"
  },
  "orig_nbformat": 4,
  "vscode": {
   "interpreter": {
    "hash": "93af7c608b0f8e74bdfb49cbb8fb63d6964698f0fd3f1d7c5daa31ee5b134e5b"
   }
  }
 },
 "nbformat": 4,
 "nbformat_minor": 2
}
