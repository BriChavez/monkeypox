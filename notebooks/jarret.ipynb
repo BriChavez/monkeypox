{
 "cells": [
  {
   "cell_type": "code",
   "execution_count": 2,
   "metadata": {},
   "outputs": [
    {
     "name": "stdout",
     "output_type": "stream",
     "text": [
      "22/07/05 09:33:40 WARN Utils: Your hostname, DESKTOP-EJLBN3A resolves to a loopback address: 127.0.1.1; using 172.18.30.182 instead (on interface eth0)\n",
      "22/07/05 09:33:40 WARN Utils: Set SPARK_LOCAL_IP if you need to bind to another address\n"
     ]
    },
    {
     "name": "stderr",
     "output_type": "stream",
     "text": [
      "Setting default log level to \"WARN\".\n",
      "To adjust logging level use sc.setLogLevel(newLevel). For SparkR, use setLogLevel(newLevel).\n"
     ]
    },
    {
     "name": "stdout",
     "output_type": "stream",
     "text": [
      "22/07/05 09:33:42 WARN NativeCodeLoader: Unable to load native-hadoop library for your platform... using builtin-java classes where applicable\n"
     ]
    }
   ],
   "source": [
    "import pandas as pd\n",
    "from pyspark.sql import SparkSession\n",
    "\n",
    "spark = SparkSession.builder.getOrCreate()"
   ]
  },
  {
   "cell_type": "code",
   "execution_count": 4,
   "metadata": {},
   "outputs": [
    {
     "name": "stdout",
     "output_type": "stream",
     "text": [
      "Warning: Your Kaggle API key is readable by other users on this system! To fix this, you can run 'chmod 600 /home/jarret/.kaggle/kaggle.json'\n",
      "Warning: Your Kaggle API key is readable by other users on this system! To fix this, you can run 'chmod 600 /home/jarret/.kaggle/kaggle.json'\n"
     ]
    }
   ],
   "source": [
    "from kaggle.api.kaggle_api_extended import KaggleApi\n",
    "import pandas as pd\n",
    "from pyspark.sql import SparkSession\n",
    "from datetime import date\n",
    "\n",
    "#create API connection and authenticate\n",
    "api = KaggleApi()\n",
    "api.authenticate()\n",
    "\n",
    "#download dataset \n",
    "api.dataset_download_file('deepcontractor/monkeypox-dataset-daily-updated','Daily_Country_Wise_Confirmed_Cases.csv')\n",
    "\n",
    "#create spark session\n",
    "# spark = SparkSession.builder.getOrCreate()\n",
    "\n",
    "#create spark df\n",
    "daily_df = spark.read.csv('Daily_Country_Wise_Confirmed_Cases.csv', header=True)\n",
    "\n",
    "def date_check():\n",
    "    today = date.today()\n",
    "    return str(today)\n",
    "\n",
    "def column_grab():\n",
    "    try:\n",
    "        return daily_df.select(daily_df[date_check()]).show()\n",
    "    except:\n",
    "        pass\n",
    "\n",
    "column_grab()"
   ]
  },
  {
   "cell_type": "code",
   "execution_count": 41,
   "metadata": {},
   "outputs": [
    {
     "name": "stdout",
     "output_type": "stream",
     "text": [
      "+--------+---------------+---------------+------------+------------------+-----------------+\n",
      "| Country|Confirmed_Cases|Suspected_Cases|Hospitalized|Travel_History_Yes|Travel_History_No|\n",
      "+--------+---------------+---------------+------------+------------------+-----------------+\n",
      "| England|         1035.0|            0.0|         5.0|               2.0|              7.0|\n",
      "|Portugal|          402.0|            0.0|         0.0|               0.0|             34.0|\n",
      "+--------+---------------+---------------+------------+------------------+-----------------+\n",
      "only showing top 2 rows\n",
      "\n",
      "+--------+---------------+---------------+------------+------------------+-----------------+\n",
      "| Country|Confirmed_Cases|Suspected_Cases|Hospitalized|Travel_History_Yes|Travel_History_No|\n",
      "+--------+---------------+---------------+------------+------------------+-----------------+\n",
      "| England|           1035|              0|           5|                 2|                7|\n",
      "|Portugal|            402|              0|           0|                 0|               34|\n",
      "+--------+---------------+---------------+------------+------------------+-----------------+\n",
      "only showing top 2 rows\n",
      "\n"
     ]
    }
   ],
   "source": [
    "# DATA CLEANING\n",
    "from pyspark.sql.types import IntegerType\n",
    "\n",
    "daily_df = spark.read.csv(\"../data/Daily_Country_Wise_Confirmed_Cases.csv\", header=True)\n",
    "worldwide_df = spark.read.csv(\"../data/Monkey_Pox_Cases_Worldwide.csv\", header=True)\n",
    "timeline_df = spark.read.csv(\"../data/Worldwide_Case_Detection_Timeline.csv\", header=True)\n",
    "# daily_df.show(10)\n",
    "# daily_df.describe()\n",
    "# len(daily_df.columns)\n",
    "worldwide_df.columns\n",
    "worldwide_df.show(2)\n",
    "worldwide_df = worldwide_df.withColumns({\"Confirmed_Cases\": worldwide_df[\"Confirmed_Cases\"].cast(IntegerType()), \"Suspected_Cases\": worldwide_df[\"Suspected_Cases\"].cast(IntegerType()), \"Hospitalized\": worldwide_df[\"Hospitalized\"].cast(IntegerType()), \"Travel_History_Yes\": worldwide_df[\"Travel_History_Yes\"].cast(IntegerType()), \"Travel_History_No\": worldwide_df[\"Travel_History_No\"].cast(IntegerType())})\n",
    "worldwide_df.show(2)\n",
    "# timeline_df = timeline_df.fillna({\"Age\": \"unknown\", \"Gender\": \"unknown\", \"Symptoms\": \"unknown\", \"Hospitalised (Y/N/NA)\": \"NA\", \"Isolated (Y/N/NA)\": \"NA\", \"Travel_History (Y/N/NA)\": \"NA\"})\n",
    "# timeline_df.show(30)"
   ]
  }
 ],
 "metadata": {
  "kernelspec": {
   "display_name": "Python 3.7.13 ('venv': venv)",
   "language": "python",
   "name": "python3"
  },
  "language_info": {
   "codemirror_mode": {
    "name": "ipython",
    "version": 3
   },
   "file_extension": ".py",
   "mimetype": "text/x-python",
   "name": "python",
   "nbconvert_exporter": "python",
   "pygments_lexer": "ipython3",
   "version": "3.7.13"
  },
  "orig_nbformat": 4,
  "vscode": {
   "interpreter": {
    "hash": "d82b1221c34866a448d0c3d44b632a06f8e1347503ee3fea4c0d0e818227a390"
   }
  }
 },
 "nbformat": 4,
 "nbformat_minor": 2
}
