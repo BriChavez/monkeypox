{
 "cells": [
  {
   "cell_type": "code",
   "execution_count": 2,
   "metadata": {},
   "outputs": [
    {
     "name": "stdout",
     "output_type": "stream",
     "text": [
      "22/06/30 16:25:37 WARN Utils: Your hostname, DESKTOP-EJLBN3A resolves to a loopback address: 127.0.1.1; using 172.27.7.226 instead (on interface eth0)\n",
      "22/06/30 16:25:37 WARN Utils: Set SPARK_LOCAL_IP if you need to bind to another address\n"
     ]
    },
    {
     "name": "stderr",
     "output_type": "stream",
     "text": [
      "Setting default log level to \"WARN\".\n",
      "To adjust logging level use sc.setLogLevel(newLevel). For SparkR, use setLogLevel(newLevel).\n"
     ]
    },
    {
     "name": "stdout",
     "output_type": "stream",
     "text": [
      "22/06/30 16:25:38 WARN NativeCodeLoader: Unable to load native-hadoop library for your platform... using builtin-java classes where applicable\n",
      "22/06/30 16:25:39 WARN Utils: Service 'SparkUI' could not bind on port 4040. Attempting port 4041.\n"
     ]
    }
   ],
   "source": [
    "import pandas as pd\n",
    "from pyspark.sql import SparkSession\n",
    "\n",
    "spark = SparkSession.builder.getOrCreate()"
   ]
  },
  {
   "cell_type": "code",
   "execution_count": 8,
   "metadata": {},
   "outputs": [
    {
     "name": "stdout",
     "output_type": "stream",
     "text": [
      "+-----------------+-------------+----------+-------+-------+--------------------+---------------------+-----------------+-----------------------+\n",
      "|Date_confirmation|      Country|      City|    Age| Gender|            Symptoms|Hospitalised (Y/N/NA)|Isolated (Y/N/NA)|Travel_history (Y/N/NA)|\n",
      "+-----------------+-------------+----------+-------+-------+--------------------+---------------------+-----------------+-----------------------+\n",
      "|       2022-05-06|      England|    London|unknown|unknown|                rash|                    Y|                Y|                      Y|\n",
      "|       2022-05-12|      England|    London|unknown|unknown|                rash|                    Y|                Y|                      N|\n",
      "|       2022-05-13|      England|    London|unknown|unknown|      vesicular rash|                    N|                Y|                      N|\n",
      "|       2022-05-15|      England|    London|unknown|   male|      vesicular rash|                    Y|                Y|                      N|\n",
      "|       2022-05-15|      England|    London|unknown|   male|      vesicular rash|                    Y|                Y|                      N|\n",
      "|       2022-05-15|      England|    London|unknown|   male|      vesicular rash|                   NA|                Y|                      N|\n",
      "|       2022-05-15|      England| Newcastle|unknown|   male|      vesicular rash|                    Y|                Y|                      Y|\n",
      "|       2022-05-17|     Portugal|    Lisbon|  20-44|   male|skin lesions, ulc...|                    N|               NA|                      N|\n",
      "|       2022-05-17|     Portugal|    Lisbon|  20-44|   male|skin lesions, ulc...|                    N|               NA|                      N|\n",
      "|       2022-05-17|     Portugal|    Lisbon|  20-44|   male|skin lesions, ulc...|                    N|               NA|                      N|\n",
      "|       2022-05-18|        Spain|    Madrid|unknown|   male|             unknown|                    Y|                Y|                     NA|\n",
      "|       2022-05-18|      England|    London|unknown|unknown|             unknown|                   NA|               NA|                      N|\n",
      "|       2022-05-18|United States|    Boston|unknown|   male|             unknown|                    Y|               NA|                      Y|\n",
      "|       2022-05-18|        Spain|    Madrid|unknown|   male|             unknown|                    Y|                Y|                     NA|\n",
      "|       2022-05-18|        Spain|    Madrid|unknown|   male|             unknown|                    Y|                Y|                     NA|\n",
      "|       2022-05-18|        Spain|    Madrid|unknown|   male|             unknown|                    Y|                Y|                     NA|\n",
      "|       2022-05-18|        Spain|    Madrid|unknown|   male|             unknown|                    Y|                Y|                     NA|\n",
      "|       2022-05-18|        Spain|    Madrid|unknown|   male|             unknown|                    Y|                Y|                     NA|\n",
      "|       2022-05-18|        Spain|    Madrid|unknown|   male|             unknown|                    Y|                Y|                     NA|\n",
      "|       2022-05-18|     Portugal|    Lisbon|  20-44|   male|  ulcerative lesions|                    N|               NA|                      N|\n",
      "|       2022-05-18|      England|South East|unknown|unknown|             unknown|                   NA|               NA|                      N|\n",
      "|       2022-05-18|     Portugal|    Lisbon|  20-44|   male|  ulcerative lesions|                    N|               NA|                      N|\n",
      "|       2022-05-18|     Portugal|    Lisbon|  20-44|   male|skin lesions, ulc...|                    N|               NA|                      N|\n",
      "|       2022-05-18|     Portugal|    Lisbon|  20-44|   male|skin lesions, ulc...|                    N|               NA|                      N|\n",
      "|       2022-05-18|     Portugal|    Lisbon|  20-44|   male|  ulcerative lesions|                    N|               NA|                      N|\n",
      "|       2022-05-18|     Portugal|    Lisbon|  20-44|   male|  ulcerative lesions|                    N|               NA|                      N|\n",
      "|       2022-05-18|     Portugal|    Lisbon|  20-44|   male|  ulcerative lesions|                    N|               NA|                      N|\n",
      "|       2022-05-18|     Portugal|    Lisbon|  20-44|   male|  ulcerative lesions|                    N|               NA|                      N|\n",
      "|       2022-05-18|     Portugal|    Lisbon|  20-44|   male|  ulcerative lesions|                    N|               NA|                      N|\n",
      "|       2022-05-18|     Portugal|    Lisbon|  20-44|   male|  ulcerative lesions|                    N|               NA|                      N|\n",
      "+-----------------+-------------+----------+-------+-------+--------------------+---------------------+-----------------+-----------------------+\n",
      "only showing top 30 rows\n",
      "\n"
     ]
    }
   ],
   "source": [
    "dailydf = spark.read.csv(\"../data/Daily_Country_Wise_Confirmed_Cases.csv\", header=True)\n",
    "timeline_df = spark.read.csv(\"../data/Worldwide_Case_Detection_Timeline.csv\", header=True)\n",
    "# dailydf.show(5)\n",
    "# dailydf.describe()\n",
    "# len(dailydf.columns)\n",
    "timeline_df = timeline_df.fillna({\"Age\": \"unknown\", \"Gender\": \"unknown\", \"Symptoms\": \"unknown\", \"Hospitalised (Y/N/NA)\": \"NA\", \"Isolated (Y/N/NA)\": \"NA\", \"Travel_History (Y/N/NA)\": \"NA\"})\n",
    "timeline_df.show(30)"
   ]
  }
 ],
 "metadata": {
  "kernelspec": {
   "display_name": "Python 3.7.13 ('venv': venv)",
   "language": "python",
   "name": "python3"
  },
  "language_info": {
   "codemirror_mode": {
    "name": "ipython",
    "version": 3
   },
   "file_extension": ".py",
   "mimetype": "text/x-python",
   "name": "python",
   "nbconvert_exporter": "python",
   "pygments_lexer": "ipython3",
   "version": "3.7.13"
  },
  "orig_nbformat": 4,
  "vscode": {
   "interpreter": {
    "hash": "d82b1221c34866a448d0c3d44b632a06f8e1347503ee3fea4c0d0e818227a390"
   }
  }
 },
 "nbformat": 4,
 "nbformat_minor": 2
}
