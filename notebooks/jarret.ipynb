{
 "cells": [
  {
   "cell_type": "code",
   "execution_count": 2,
   "metadata": {},
   "outputs": [
    {
     "name": "stdout",
     "output_type": "stream",
     "text": [
      "22/07/05 09:33:40 WARN Utils: Your hostname, DESKTOP-EJLBN3A resolves to a loopback address: 127.0.1.1; using 172.18.30.182 instead (on interface eth0)\n",
      "22/07/05 09:33:40 WARN Utils: Set SPARK_LOCAL_IP if you need to bind to another address\n"
     ]
    },
    {
     "name": "stderr",
     "output_type": "stream",
     "text": [
      "Setting default log level to \"WARN\".\n",
      "To adjust logging level use sc.setLogLevel(newLevel). For SparkR, use setLogLevel(newLevel).\n"
     ]
    },
    {
     "name": "stdout",
     "output_type": "stream",
     "text": [
      "22/07/05 09:33:42 WARN NativeCodeLoader: Unable to load native-hadoop library for your platform... using builtin-java classes where applicable\n"
     ]
    }
   ],
   "source": [
    "import pandas as pd\n",
    "from pyspark.sql import SparkSession\n",
    "\n",
    "spark = SparkSession.builder.getOrCreate()"
   ]
  },
  {
   "cell_type": "code",
   "execution_count": 4,
   "metadata": {},
   "outputs": [
    {
     "name": "stdout",
     "output_type": "stream",
     "text": [
      "Warning: Your Kaggle API key is readable by other users on this system! To fix this, you can run 'chmod 600 /home/jarret/.kaggle/kaggle.json'\n",
      "Warning: Your Kaggle API key is readable by other users on this system! To fix this, you can run 'chmod 600 /home/jarret/.kaggle/kaggle.json'\n"
     ]
    }
   ],
   "source": [
    "from kaggle.api.kaggle_api_extended import KaggleApi\n",
    "import pandas as pd\n",
    "from pyspark.sql import SparkSession\n",
    "from datetime import date\n",
    "\n",
    "#create API connection and authenticate\n",
    "api = KaggleApi()\n",
    "api.authenticate()\n",
    "\n",
    "#download dataset \n",
    "api.dataset_download_file('deepcontractor/monkeypox-dataset-daily-updated','Daily_Country_Wise_Confirmed_Cases.csv')\n",
    "\n",
    "#create spark session\n",
    "# spark = SparkSession.builder.getOrCreate()\n",
    "\n",
    "#create spark df\n",
    "daily_df = spark.read.csv('Daily_Country_Wise_Confirmed_Cases.csv', header=True)\n",
    "\n",
    "def date_check():\n",
    "    today = date.today()\n",
    "    return str(today)\n",
    "\n",
    "def column_grab():\n",
    "    try:\n",
    "        return daily_df.select(daily_df[date_check()]).show()\n",
    "    except:\n",
    "        pass\n",
    "\n",
    "column_grab()"
   ]
  },
  {
   "cell_type": "code",
   "execution_count": 41,
   "metadata": {},
   "outputs": [
    {
     "name": "stdout",
     "output_type": "stream",
     "text": [
      "+--------+---------------+---------------+------------+------------------+-----------------+\n",
      "| Country|Confirmed_Cases|Suspected_Cases|Hospitalized|Travel_History_Yes|Travel_History_No|\n",
      "+--------+---------------+---------------+------------+------------------+-----------------+\n",
      "| England|         1035.0|            0.0|         5.0|               2.0|              7.0|\n",
      "|Portugal|          402.0|            0.0|         0.0|               0.0|             34.0|\n",
      "+--------+---------------+---------------+------------+------------------+-----------------+\n",
      "only showing top 2 rows\n",
      "\n",
      "+--------+---------------+---------------+------------+------------------+-----------------+\n",
      "| Country|Confirmed_Cases|Suspected_Cases|Hospitalized|Travel_History_Yes|Travel_History_No|\n",
      "+--------+---------------+---------------+------------+------------------+-----------------+\n",
      "| England|           1035|              0|           5|                 2|                7|\n",
      "|Portugal|            402|              0|           0|                 0|               34|\n",
      "+--------+---------------+---------------+------------+------------------+-----------------+\n",
      "only showing top 2 rows\n",
      "\n"
     ]
    }
   ],
   "source": [
    "# DATA CLEANING\n",
    "from pyspark.sql.types import IntegerType\n",
    "\n",
    "daily_df = spark.read.csv(\"../data/Daily_Country_Wise_Confirmed_Cases.csv\", header=True)\n",
    "worldwide_df = spark.read.csv(\"../data/Monkey_Pox_Cases_Worldwide.csv\", header=True)\n",
    "timeline_df = spark.read.csv(\"../data/Worldwide_Case_Detection_Timeline.csv\", header=True)\n",
    "# daily_df.show(10)\n",
    "# daily_df.describe()\n",
    "# len(daily_df.columns)\n",
    "worldwide_df.columns\n",
    "worldwide_df.show(2)\n",
    "worldwide_df = worldwide_df.withColumns({\"Confirmed_Cases\": worldwide_df[\"Confirmed_Cases\"].cast(IntegerType()), \"Suspected_Cases\": worldwide_df[\"Suspected_Cases\"].cast(IntegerType()), \"Hospitalized\": worldwide_df[\"Hospitalized\"].cast(IntegerType()), \"Travel_History_Yes\": worldwide_df[\"Travel_History_Yes\"].cast(IntegerType()), \"Travel_History_No\": worldwide_df[\"Travel_History_No\"].cast(IntegerType())})\n",
    "worldwide_df.show(2)\n",
    "# timeline_df = timeline_df.fillna({\"Age\": \"unknown\", \"Gender\": \"unknown\", \"Symptoms\": \"unknown\", \"Hospitalised (Y/N/NA)\": \"NA\", \"Isolated (Y/N/NA)\": \"NA\", \"Travel_History (Y/N/NA)\": \"NA\"})\n",
    "# timeline_df.show(30)"
   ]
  },
  {
   "cell_type": "code",
   "execution_count": 35,
   "metadata": {},
   "outputs": [
    {
     "name": "stdout",
     "output_type": "stream",
     "text": [
      "+-------------+----------+\n",
      "|      country|2022-06-30|\n",
      "+-------------+----------+\n",
      "|      England|         0|\n",
      "|     Portugal|        11|\n",
      "|        Spain|         0|\n",
      "|United States|         0|\n",
      "|      Germany|        95|\n",
      "|      Belgium|         0|\n",
      "+-------------+----------+\n",
      "only showing top 6 rows\n",
      "\n",
      "+----------+\n",
      "|2022-07-05|\n",
      "+----------+\n",
      "|        10|\n",
      "|        21|\n",
      "|        10|\n",
      "|        10|\n",
      "|       105|\n",
      "|        10|\n",
      "+----------+\n",
      "only showing top 6 rows\n",
      "\n"
     ]
    }
   ],
   "source": [
    "\n",
    "\n",
    "daily_df2 = daily_df.withColumn(\"2022-07-05\", (daily_df[\"2022-06-30\"] + 10).cast(IntegerType()))\n",
    "daily_df2.select(\"country\", \"2022-06-30\").show(6)\n",
    "new_col = daily_df2.select(\"2022-07-05\")\n",
    "\n",
    "# daily_df.columns\n",
    "# daily_df2.columns\n",
    "new_col.show(6)\n",
    "daily_df.w"
   ]
  },
  {
   "cell_type": "code",
   "execution_count": 92,
   "metadata": {},
   "outputs": [
    {
     "name": "stdout",
     "output_type": "stream",
     "text": [
      "['England', 'Germany', 'Spain', 'France', 'Portugal']\n",
      "[1035, 969, 800, 440, 402]\n"
     ]
    },
    {
     "data": {
      "image/png": "[encoded data removed]",
      "text/plain": [
       "<Figure size 432x288 with 1 Axes>"
      ]
     },
     "metadata": {
      "needs_background": "light"
     },
     "output_type": "display_data"
    }
   ],
   "source": [
    "# Data Visualizations\n",
    "from matplotlib import pyplot as plt\n",
    "\n",
    "# worldwide_df.select(\"Country\", \"Confirmed_Cases\").show(10)\n",
    "worldwide_df.createOrReplaceTempView(\"worldwide_cases\")\n",
    "top5countries = spark.sql(\"SELECT Country FROM worldwide_cases ORDER BY Confirmed_Cases DESC LIMIT 5\")\n",
    "top5countries_cases = spark.sql(\"SELECT Confirmed_Cases FROM worldwide_cases ORDER BY Confirmed_Cases DESC LIMIT 5\")\n",
    "# top5countries.show()\n",
    "# top5countries_cases.show()\n",
    "# top5countries.collect()\n",
    "# top5countries_cases.collect()\n",
    "top5countries = top5countries.collect()\n",
    "top5countries_cases = top5countries_cases.collect()\n",
    "# print(top5countries)\n",
    "# print(top5countries_cases)\n",
    "\n",
    "top_countries_list = []\n",
    "for row in top5countries:\n",
    "    for country in row:\n",
    "        top_countries_list.append(country)\n",
    "print(top_countries_list)\n",
    "\n",
    "top_cases_list = []\n",
    "for row in top5countries_cases:\n",
    "    for case in row:\n",
    "        top_cases_list.append(case)\n",
    "print(top_cases_list)\n",
    "\n",
    "# graph of the 5 countries with highest monkey pox cases \n",
    "fig = plt.figure()\n",
    "ax = fig.add_axes([0,0,1,1])\n",
    "ax.bar(top_countries_list, top_cases_list)\n",
    "plt.show()"
   ]
  }
 ],
 "metadata": {
  "kernelspec": {
   "display_name": "Python 3.7.13 ('venv': venv)",
   "language": "python",
   "name": "python3"
  },
  "language_info": {
   "codemirror_mode": {
    "name": "ipython",
    "version": 3
   },
   "file_extension": ".py",
   "mimetype": "text/x-python",
   "name": "python",
   "nbconvert_exporter": "python",
   "pygments_lexer": "ipython3",
   "version": "3.7.13"
  },
  "orig_nbformat": 4,
  "vscode": {
   "interpreter": {
    "hash": "d82b1221c34866a448d0c3d44b632a06f8e1347503ee3fea4c0d0e818227a390"
   }
  }
 },
 "nbformat": 4,
 "nbformat_minor": 2
}
