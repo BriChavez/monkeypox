{
 "cells": [
  {
   "cell_type": "code",
   "execution_count": 5,
   "metadata": {},
   "outputs": [
    {
     "name": "stdout",
     "output_type": "stream",
     "text": [
      "Warning: Your Kaggle API key is readable by other users on this system! To fix this, you can run 'chmod 600 /home/jessgschu/.kaggle/kaggle.json'\n"
     ]
    },
    {
     "ename": "TypeError",
     "evalue": "'Column' object is not callable",
     "output_type": "error",
     "traceback": [
      "\u001b[0;31m---------------------------------------------------------------------------\u001b[0m",
      "\u001b[0;31mTypeError\u001b[0m                                 Traceback (most recent call last)",
      "\u001b[1;32m/home/jessgschu/projects/monkeypox/notebooks/jess.ipynb Cell 1'\u001b[0m in \u001b[0;36m<cell line: 30>\u001b[0;34m()\u001b[0m\n\u001b[1;32m     <a href='vscode-notebook-cell://wsl%2Bubuntu/home/jessgschu/projects/monkeypox/notebooks/jess.ipynb#ch0000000vscode-remote?line=26'>27</a>\u001b[0m     \u001b[39mexcept\u001b[39;00m:\n\u001b[1;32m     <a href='vscode-notebook-cell://wsl%2Bubuntu/home/jessgschu/projects/monkeypox/notebooks/jess.ipynb#ch0000000vscode-remote?line=27'>28</a>\u001b[0m         \u001b[39mpass\u001b[39;00m\n\u001b[0;32m---> <a href='vscode-notebook-cell://wsl%2Bubuntu/home/jessgschu/projects/monkeypox/notebooks/jess.ipynb#ch0000000vscode-remote?line=29'>30</a>\u001b[0m (daily_df[\u001b[39m-\u001b[39;49m\u001b[39m1\u001b[39;49m])\u001b[39m.\u001b[39;49mshow(\u001b[39m1\u001b[39;49m)\n",
      "\u001b[0;31mTypeError\u001b[0m: 'Column' object is not callable"
     ]
    }
   ],
   "source": [
    "from kaggle.api.kaggle_api_extended import KaggleApi\n",
    "from pyspark.sql import SparkSession\n",
    "from datetime import date\n",
    "\n",
    "#create API connection and authenticate\n",
    "api = KaggleApi()\n",
    "api.authenticate()\n",
    "\n",
    "#download dataset \n",
    "api.dataset_download_file('deepcontractor/monkeypox-dataset-daily-updated','Daily_Country_Wise_Confirmed_Cases.csv')\n",
    "api.dataset_download_file('deepcontractor/monkeypox-dataset-daily-updated','Monkey_Pox_Cases_Worldwide.csv')\n",
    "\n",
    "#create spark session\n",
    "spark = SparkSession.builder.getOrCreate()\n",
    "\n",
    "#create spark df\n",
    "daily_df = spark.read.csv('Daily_Country_Wise_Confirmed_Cases.csv', header=True)\n",
    "\n",
    "def date_check():\n",
    "    today = date.today()\n",
    "    return str(today)\n",
    "\n",
    "def column_grab():\n",
    "    try:\n",
    "        daily_df = daily_df.select(daily_df['Country'],daily_df['2022-07-01'])\n",
    "        return daily_df\n",
    "    except:\n",
    "        pass\n",
    "\n",
    "(daily_df[-1]).show(1)\n"
   ]
  },
  {
   "cell_type": "code",
   "execution_count": null,
   "metadata": {},
   "outputs": [],
   "source": [
    "from airflow import DAG\n",
    "from airflow.decorators import dag, task\n",
    "\n",
    "#create our tasks\n",
    "@task\n",
    "def api_pull():\n",
    "    \"\"\"\n",
    "    pulls the updated file from Kaggle\n",
    "    \"\"\"\n",
    "    api = KaggleApi()\n",
    "    api.authenticate()\n",
    "    #download dataset \n",
    "    api.dataset_download_file('deepcontractor/monkeypox-dataset-daily-updated','Daily_Country_Wise_Confirmed_Cases.csv')\n",
    "    #create spark session\n",
    "    spark = SparkSession.builder.getOrCreate()\n",
    "\n",
    "\n",
    "\n",
    "@task\n",
    "def main():\n",
    "    \"\"\"\n",
    "    main.py, update table with new data, do transformations\n",
    "    \"\"\"\n",
    "\n",
    "@task\n",
    "def load():\n",
    "    \"\"\"\n",
    "    load to bigqquery\n",
    "    \"\"\"\n",
    "\n",
    "#set dag attributes\n",
    "@dag(\n",
    "    schedule_interval='@daily',\n",
    "    start_date=datetime.utcnow(),\n",
    "    catchup=False,\n",
    ")\n",
    "#function that calls all of our tasks to create dag\n",
    "def monkeypox_dag():\n"
   ]
  },
  {
   "cell_type": "markdown",
   "metadata": {},
   "source": [
    "![image](DAG.png)"
   ]
  },
  {
   "cell_type": "code",
   "execution_count": 46,
   "metadata": {},
   "outputs": [
    {
     "name": "stdout",
     "output_type": "stream",
     "text": [
      "+-------------+----------+\n",
      "|      Country|2022-07-01|\n",
      "+-------------+----------+\n",
      "|      England|         0|\n",
      "|     Portugal|         0|\n",
      "|        Spain|         0|\n",
      "|United States|        64|\n",
      "|      Germany|        85|\n",
      "|      Belgium|         0|\n",
      "|       Sweden|         0|\n",
      "|        Italy|        33|\n",
      "|       Canada|         0|\n",
      "|       France|         0|\n",
      "+-------------+----------+\n",
      "only showing top 10 rows\n",
      "\n",
      "+-------------+---------------+---------------+------------+------------------+-----------------+\n",
      "|      Country|Confirmed_Cases|Suspected_Cases|Hospitalized|Travel_History_Yes|Travel_History_No|\n",
      "+-------------+---------------+---------------+------------+------------------+-----------------+\n",
      "|      England|         1185.0|            0.0|         5.0|               2.0|              7.0|\n",
      "|     Portugal|          402.0|            0.0|         0.0|               0.0|             34.0|\n",
      "|        Spain|         1196.0|            0.0|        11.0|               2.0|              0.0|\n",
      "|United States|          523.0|            0.0|         4.0|              19.0|              1.0|\n",
      "|       Canada|          287.0|            7.0|         1.0|               2.0|              0.0|\n",
      "|       Sweden|           28.0|            0.0|         0.0|               0.0|              0.0|\n",
      "|        Italy|          225.0|            1.0|        18.0|              19.0|              4.0|\n",
      "|       France|          498.0|            1.0|         1.0|               2.0|              1.0|\n",
      "|      Belgium|          117.0|            0.0|         2.0|               1.0|              0.0|\n",
      "|    Australia|           12.0|            0.0|         2.0|               8.0|              0.0|\n",
      "+-------------+---------------+---------------+------------+------------------+-----------------+\n",
      "only showing top 10 rows\n",
      "\n"
     ]
    }
   ],
   "source": [
    "# daily_df = spark.read.csv('Daily_Country_Wise_Confirmed_Cases.csv', header=True)\n",
    "#pivot\n",
    "\n",
    "\n",
    "def column_grab():\n",
    "    daily_df = spark.read.csv('Daily_Country_Wise_Confirmed_Cases.csv', header=True)\n",
    "    daily_df = daily_df.select(daily_df['Country'],daily_df['2022-07-01'])\n",
    "    return daily_df\n",
    "\n",
    "\n",
    "daily_df = column_grab()\n",
    "\n",
    "daily_df.show(10)\n",
    "\n",
    "dataset_df = spark.read.csv('Monkey_Pox_Cases_Worldwide.csv', header=True)\n",
    "\n",
    "dataset_df = dataset_df.join(daily_df,['Country'],how='left')\n",
    "\n",
    "dataset_df.withColumn('Confirmed_Cases', dataset_df['Confirmed_Cases'] + dataset_df['2022-07-01']).drop(dataset_df['2022-07-01']).show(10)"
   ]
  },
  {
   "cell_type": "code",
   "execution_count": null,
   "metadata": {},
   "outputs": [],
   "source": [
    "import quinn\n",
    "\n",
    "daily_df = spark.read.csv('Daily_Country_Wise_Confirmed_Cases.csv', header=True)\n",
    "\n",
    "def dashes_to_underscores(s):\n",
    "    return s.replace(\"-\", \"_\")\n",
    "\n",
    "\n",
    "dataset_df = daily_df.transform(quinn.with_columns_renamed(dashes_to_underscores))\n",
    "\n",
    "pandas_DF = dataset_df.toPandas()\n",
    "\n",
    "pandas_DF.set_index('Country', inplace=True)\n",
    "transpose_df = pandas_DF.transpose()\n",
    "\n",
    "transpose_df.reset_index(inplace=True)\n",
    "\n",
    "spark_df=spark.createDataFrame(transpose_df)\n",
    "spark_df = spark_df.withColumnRenamed('index', 'Date')\n",
    "\n",
    "spark_df.show()\n",
    "\n",
    "\n"
   ]
  },
  {
   "cell_type": "code",
   "execution_count": 107,
   "metadata": {},
   "outputs": [
    {
     "name": "stdout",
     "output_type": "stream",
     "text": [
      "57\n",
      "2\n"
     ]
    }
   ],
   "source": [
    "daily_df = spark.read.csv('Daily_Country_Wise_Confirmed_Cases.csv', header=True)\n",
    "\n",
    "def date_check():\n",
    "    today = date.today()\n",
    "    return str(today)\n",
    "\n",
    "def column_grab():\n",
    "    try:\n",
    "        daily_df = daily_df.select(daily_df['Country'],daily_df['2022-07-01'])\n",
    "        return daily_df\n",
    "    except:\n",
    "        pass\n",
    "\n",
    "test_df = daily_df.select('Country', daily_df['2022-06-24'])\n",
    "\n",
    "daily_df = daily_df.select('Country',daily_df[-1])\n",
    "\n",
    "\n",
    "pandas_df = daily_df.toPandas()\n",
    "\n",
    "pandas_df.set_index('Country', inplace=True)\n",
    "transpose_df = pandas_df.transpose()\n",
    "\n",
    "\n",
    "transpose_df.reset_index(inplace=True)\n",
    "\n",
    "spark_df=spark.createDataFrame(transpose_df)\n",
    "spark_df = spark_df.withColumnRenamed('index', 'Date')\n",
    "\n",
    "print(len(spark_df.columns))\n",
    "print(len(test_df.columns))\n",
    "\n",
    "def column_grab():\n",
    "    len(current)"
   ]
  },
  {
   "cell_type": "code",
   "execution_count": 159,
   "metadata": {},
   "outputs": [
    {
     "data": {
      "text/plain": [
       "(3, 4)"
      ]
     },
     "execution_count": 159,
     "metadata": {},
     "output_type": "execute_result"
    }
   ],
   "source": [
    "from datetime import datetime\n",
    "from pyspark.sql.functions import lit\n",
    "\n",
    "df = spark.createDataFrame([\n",
    "    ('7-1', 1, 2, 0),\n",
    "    ('7-2',2, 4, 3),\n",
    "    ('7-3',3, 6, 0)\n",
    "], schema='Date string, USA string, Canada string, Mexico string')\n",
    "\n",
    "day_df = spark.createDataFrame([\n",
    "    ('7-4',6, 6, 0, 1)\n",
    "], schema='Date string, USA string, Canada string, Mexico string, Peru string')\n",
    "\n",
    "def add_col(df1, df2):\n",
    "    if len(df1.columns) < len(df2.columns):\n",
    "        for column in [column for column in df2.columns if column not in df1.columns]:\n",
    "            df1 = df1.withColumn(column, lit(0))\n",
    "            return df1\n",
    "\n",
    "df_shape = df.count(), len(df.columns)\n",
    "\n",
    "df_shape\n",
    "# for column in [column for column in day_df.columns\n",
    "#                if column not in df.columns]:\n",
    "#     df = df.withColumn(column, lit(0))\n",
    "# df = add_col(df, day_df)\n",
    "# df.union(day_df).show()"
   ]
  },
  {
   "cell_type": "markdown",
   "metadata": {},
   "source": [
    "Script for daily pull"
   ]
  },
  {
   "cell_type": "code",
   "execution_count": null,
   "metadata": {},
   "outputs": [],
   "source": [
    "def add_row(daily_df, rows):\n",
    "    \"\"\"\n",
    "    Add rows to dataset but no new columns\n",
    "    \"\"\"\n",
    "    #grab number of new rows\n",
    "    daily_df = daily_df.select('Country',daily_df[rows])\n",
    "    #create pandas df and set index\n",
    "    pandas_df = daily_df.toPandas()\n",
    "    pandas_df.set_index('Country', inplace=True)\n",
    "    #transpose and reset index\n",
    "    transpose_df = pandas_df.transpose()\n",
    "    transpose_df.reset_index(inplace=True)\n",
    "    #create spark df \n",
    "    spark_df=spark.createDataFrame(transpose_df)\n",
    "    spark_df = spark_df.withColumnRenamed('index', 'Date')\n",
    "    #write to csv? or update? \n",
    "\n",
    "def add_column(daily_df, rows):\n",
    "    \"\"\"\n",
    "    Add rows and columns to dataset\n",
    "    \"\"\"\n",
    "    #grab number of new rows\n",
    "    daily_df = daily_df.select('Country',daily_df[rows])\n",
    "    #create pandas df and set index\n",
    "    pandas_df = daily_df.toPandas()\n",
    "    pandas_df.set_index('Country', inplace=True)\n",
    "    #transpose and reset index\n",
    "    transpose_df = pandas_df.transpose()\n",
    "    transpose_df.reset_index(inplace=True)\n",
    "    #create spark df \n",
    "    spark_df=spark.createDataFrame(transpose_df)\n",
    "    spark_df = spark_df.withColumnRenamed('index', 'Date')\n",
    "    #pull dataset down from GCS??\n",
    "    df = df\n",
    "    for column in [column for column in spark_df.columns if column not in df.columns]:\n",
    "        df = df.withColumn(column, lit(0))\n",
    "    df = add_col(df, spark_df)\n",
    "    df.union(spark_df)\n",
    "    #write to csv? overwrite table?"
   ]
  },
  {
   "cell_type": "code",
   "execution_count": null,
   "metadata": {},
   "outputs": [],
   "source": [
    "def update(shape_xcom):\n",
    "    \"\"\"\n",
    "    Main function to create df of new data\n",
    "    \"\"\"\n",
    "    daily_df = spark.read.csv('Daily_Country_Wise_Confirmed_Cases.csv', header=True)\n",
    "    daily_shape = (len(daily_df.columns), daily_df.count())\n",
    "    if daily_shape == shape_xcom:\n",
    "        pass\n",
    "    elif daily_shape[0] == shape_xcom[1]:\n",
    "        rows = daily_df.count() - shape_xcom[0]\n",
    "        add_row(daily_df, rows)\n",
    "    else:\n",
    "        rows = daily_df.count() - shape_xcom[0]\n",
    "        add_column(daily_df, rows)\n",
    "\n",
    "\n"
   ]
  }
 ],
 "metadata": {
  "kernelspec": {
   "display_name": "Python 3.8.10 ('venv': virtualenv)",
   "language": "python",
   "name": "python3"
  },
  "language_info": {
   "codemirror_mode": {
    "name": "ipython",
    "version": 3
   },
   "file_extension": ".py",
   "mimetype": "text/x-python",
   "name": "python",
   "nbconvert_exporter": "python",
   "pygments_lexer": "ipython3",
   "version": "3.8.10"
  },
  "orig_nbformat": 4,
  "vscode": {
   "interpreter": {
    "hash": "5b68b7a06e483e4d57db62916f93312bf342cb3fe683384fc513d22a91496b8a"
   }
  }
 },
 "nbformat": 4,
 "nbformat_minor": 2
}
