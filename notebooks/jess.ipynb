{
 "cells": [
  {
   "cell_type": "code",
   "execution_count": 1,
   "metadata": {},
   "outputs": [
    {
     "name": "stdout",
     "output_type": "stream",
     "text": [
      "Warning: Your Kaggle API key is readable by other users on this system! To fix this, you can run 'chmod 600 /home/fossa/.kaggle/kaggle.json'\n",
      "Warning: Your Kaggle API key is readable by other users on this system! To fix this, you can run 'chmod 600 /home/fossa/.kaggle/kaggle.json'\n",
      "22/07/06 13:47:44 WARN Utils: Your hostname, fossa-dsa-001 resolves to a loopback address: 127.0.1.1; using 192.168.0.111 instead (on interface wlp3s0)\n",
      "22/07/06 13:47:44 WARN Utils: Set SPARK_LOCAL_IP if you need to bind to another address\n"
     ]
    },
    {
     "name": "stderr",
     "output_type": "stream",
     "text": [
      "Setting default log level to \"WARN\".\n",
      "To adjust logging level use sc.setLogLevel(newLevel). For SparkR, use setLogLevel(newLevel).\n"
     ]
    },
    {
     "name": "stdout",
     "output_type": "stream",
     "text": [
      "22/07/06 13:47:45 WARN NativeCodeLoader: Unable to load native-hadoop library for your platform... using builtin-java classes where applicable\n"
     ]
    },
    {
     "name": "stderr",
     "output_type": "stream",
     "text": [
      "                                                                                \r"
     ]
    },
    {
     "ename": "TypeError",
     "evalue": "'Column' object is not callable",
     "output_type": "error",
     "traceback": [
      "\u001b[0;31m---------------------------------------------------------------------------\u001b[0m",
      "\u001b[0;31mTypeError\u001b[0m                                 Traceback (most recent call last)",
      "\u001b[0;32m/tmp/ipykernel_8219/575587108.py\u001b[0m in \u001b[0;36m<module>\u001b[0;34m\u001b[0m\n\u001b[1;32m     28\u001b[0m         \u001b[0;32mpass\u001b[0m\u001b[0;34m\u001b[0m\u001b[0;34m\u001b[0m\u001b[0m\n\u001b[1;32m     29\u001b[0m \u001b[0;34m\u001b[0m\u001b[0m\n\u001b[0;32m---> 30\u001b[0;31m \u001b[0;34m(\u001b[0m\u001b[0mdaily_df\u001b[0m\u001b[0;34m[\u001b[0m\u001b[0;34m-\u001b[0m\u001b[0;36m1\u001b[0m\u001b[0;34m]\u001b[0m\u001b[0;34m)\u001b[0m\u001b[0;34m.\u001b[0m\u001b[0mshow\u001b[0m\u001b[0;34m(\u001b[0m\u001b[0;36m1\u001b[0m\u001b[0;34m)\u001b[0m\u001b[0;34m\u001b[0m\u001b[0;34m\u001b[0m\u001b[0m\n\u001b[0m",
      "\u001b[0;31mTypeError\u001b[0m: 'Column' object is not callable"
     ]
    }
   ],
   "source": [
    "from kaggle.api.kaggle_api_extended import KaggleApi\n",
    "from pyspark.sql import SparkSession\n",
    "from datetime import date\n",
    "\n",
    "#create API connection and authenticate\n",
    "api = KaggleApi()\n",
    "api.authenticate()\n",
    "\n",
    "#download dataset \n",
    "api.dataset_download_file('deepcontractor/monkeypox-dataset-daily-updated','Daily_Country_Wise_Confirmed_Cases.csv')\n",
    "api.dataset_download_file('deepcontractor/monkeypox-dataset-daily-updated','Monkey_Pox_Cases_Worldwide.csv')\n",
    "\n",
    "#create spark session\n",
    "spark = SparkSession.builder.getOrCreate()\n",
    "\n",
    "#create spark df\n",
    "daily_df = spark.read.csv('Daily_Country_Wise_Confirmed_Cases.csv', header=True)\n",
    "\n",
    "def date_check():\n",
    "    today = date.today()\n",
    "    return str(today)\n",
    "\n",
    "def column_grab():\n",
    "    try:\n",
    "        daily_df = daily_df.select(daily_df['Country'],daily_df['2022-07-01'])\n",
    "        return daily_df\n",
    "    except:\n",
    "        pass\n",
    "\n",
    "(daily_df[-1]).show(1)\n"
   ]
  },
  {
   "cell_type": "code",
   "execution_count": null,
   "metadata": {},
   "outputs": [
    {
     "ename": "SyntaxError",
     "evalue": "unexpected EOF while parsing (562682909.py, line 39)",
     "output_type": "error",
     "traceback": [
      "\u001b[0;36m  Input \u001b[0;32mIn [5]\u001b[0;36m\u001b[0m\n\u001b[0;31m    \u001b[0m\n\u001b[0m    ^\u001b[0m\n\u001b[0;31mSyntaxError\u001b[0m\u001b[0;31m:\u001b[0m unexpected EOF while parsing\n"
     ]
    }
   ],
   "source": [
    "from airflow import DAG\n",
    "from airflow.decorators import dag, task\n",
    "\n",
    "#create our tasks\n",
    "@task\n",
    "def api_pull():\n",
    "    \"\"\"\n",
    "    pulls the updated file from Kaggle\n",
    "    \"\"\"\n",
    "    api = KaggleApi()\n",
    "    api.authenticate()\n",
    "    #download dataset \n",
    "    api.dataset_download_file('deepcontractor/monkeypox-dataset-daily-updated','Daily_Country_Wise_Confirmed_Cases.csv')\n",
    "    #create spark session\n",
    "    spark = SparkSession.builder.getOrCreate()\n",
    "\n",
    "\n",
    "@task\n",
    "def main():\n",
    "    \"\"\"\n",
    "    main.py, update table with new data, do transformations\n",
    "    \"\"\"\n",
    "\n",
    "@task\n",
    "def load():\n",
    "    \"\"\"\n",
    "    load to bigqquery\n",
    "    \"\"\"\n",
    "\n",
    "#set dag attributes\n",
    "@dag(\n",
    "    schedule_interval='@daily',\n",
    "    start_date=datetime.utcnow(),\n",
    "    catchup=False,\n",
    ")\n",
    "#function that calls all of our tasks to create dag\n",
    "def monkeypox_dag():\n"
   ]
  },
  {
   "cell_type": "markdown",
   "metadata": {},
   "source": [
    "![image](DAG.png)"
   ]
  },
  {
   "cell_type": "code",
   "execution_count": 2,
   "metadata": {},
   "outputs": [
    {
     "name": "stdout",
     "output_type": "stream",
     "text": [
      "+-------------+----------+\n",
      "|      Country|2022-07-01|\n",
      "+-------------+----------+\n",
      "|      England|         0|\n",
      "|     Portugal|         0|\n",
      "|        Spain|         0|\n",
      "|United States|        64|\n",
      "|      Germany|       105|\n",
      "|      Belgium|         0|\n",
      "|       Sweden|         0|\n",
      "|        Italy|        33|\n",
      "|       Canada|         0|\n",
      "|       France|         0|\n",
      "+-------------+----------+\n",
      "only showing top 10 rows\n",
      "\n",
      "+-------------+---------------+---------------+------------+------------------+-----------------+\n",
      "|      Country|Confirmed_Cases|Suspected_Cases|Hospitalized|Travel_History_Yes|Travel_History_No|\n",
      "+-------------+---------------+---------------+------------+------------------+-----------------+\n",
      "|      England|         1285.0|            0.0|         5.0|               2.0|              7.0|\n",
      "|     Portugal|          415.0|            0.0|         0.0|               0.0|             34.0|\n",
      "|        Spain|         1258.0|            0.0|        11.0|               2.0|              0.0|\n",
      "|United States|          623.0|            0.0|         4.0|              19.0|              1.0|\n",
      "|       Canada|          300.0|            7.0|         1.0|               2.0|              0.0|\n",
      "|       Sweden|           28.0|            0.0|         0.0|               0.0|              0.0|\n",
      "|        Italy|          266.0|            1.0|        18.0|              19.0|              4.0|\n",
      "|       France|          577.0|            1.0|         1.0|               2.0|              1.0|\n",
      "|      Belgium|          168.0|            1.0|         2.0|               1.0|              0.0|\n",
      "|    Australia|           12.0|            0.0|         2.0|               8.0|              0.0|\n",
      "+-------------+---------------+---------------+------------+------------------+-----------------+\n",
      "only showing top 10 rows\n",
      "\n"
     ]
    }
   ],
   "source": [
    "# daily_df = spark.read.csv('Daily_Country_Wise_Confirmed_Cases.csv', header=True)\n",
    "\n",
    "def column_grab():\n",
    "    daily_df = spark.read.csv('Daily_Country_Wise_Confirmed_Cases.csv', header=True)\n",
    "    daily_df = daily_df.select(daily_df['Country'],daily_df['2022-07-01'])\n",
    "    return daily_df\n",
    "\n",
    "\n",
    "daily_df = column_grab()\n",
    "\n",
    "daily_df.show(10)\n",
    "\n",
    "dataset_df = spark.read.csv('Monkey_Pox_Cases_Worldwide.csv', header=True)\n",
    "\n",
    "dataset_df = dataset_df.join(daily_df,['Country'],how='left')\n",
    "\n",
    "dataset_df.withColumn('Confirmed_Cases', dataset_df['Confirmed_Cases'] + dataset_df['2022-07-01']).drop(dataset_df['2022-07-01']).show(10)"
   ]
  },
  {
   "cell_type": "code",
   "execution_count": 7,
   "metadata": {},
   "outputs": [],
   "source": [
    "import quinn\n",
    "\n",
    "dataset_df = spark.read.csv('Monkey_Pox_Cases_Worldwide.csv', header=True)\n",
    "daily_df = spark.read.csv('Daily_Country_Wise_Confirmed_Cases.csv', header=True)\n",
    "\n",
    "total_df = dataset_df.select(dataset_df['Country'], dataset_df['Confirmed_Cases'])\n",
    "\n",
    "dataset_df = total_df.join(daily_df,['Country'],how='left')\n",
    "\n",
    "def dashes_to_underscores(s):\n",
    "    return s.replace(\"-\", \"_\")\n",
    "\n",
    "dataset_df = dataset_df.transform(quinn.with_columns_renamed(dashes_to_underscores))\n",
    "\n"
   ]
  }
 ],
 "metadata": {
  "kernelspec": {
   "display_name": "Python 3.8.10 ('venv': virtualenv)",
   "language": "python",
   "name": "python3"
  },
  "language_info": {
   "codemirror_mode": {
    "name": "ipython",
    "version": 3
   },
   "file_extension": ".py",
   "mimetype": "text/x-python",
   "name": "python",
   "nbconvert_exporter": "python",
   "pygments_lexer": "ipython3",
   "version": "3.8.10"
  },
  "orig_nbformat": 4,
  "vscode": {
   "interpreter": {
    "hash": "5b68b7a06e483e4d57db62916f93312bf342cb3fe683384fc513d22a91496b8a"
   }
  }
 },
 "nbformat": 4,
 "nbformat_minor": 2
}
