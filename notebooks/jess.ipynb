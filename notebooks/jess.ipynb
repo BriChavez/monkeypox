{
 "cells": [
  {
   "cell_type": "code",
   "execution_count": 5,
   "metadata": {},
   "outputs": [
    {
     "name": "stdout",
     "output_type": "stream",
     "text": [
      "Warning: Your Kaggle API key is readable by other users on this system! To fix this, you can run 'chmod 600 /home/jessgschu/.kaggle/kaggle.json'\n"
     ]
    },
    {
     "ename": "TypeError",
     "evalue": "'Column' object is not callable",
     "output_type": "error",
     "traceback": [
      "\u001b[0;31m---------------------------------------------------------------------------\u001b[0m",
      "\u001b[0;31mTypeError\u001b[0m                                 Traceback (most recent call last)",
      "\u001b[1;32m/home/jessgschu/projects/monkeypox/notebooks/jess.ipynb Cell 1'\u001b[0m in \u001b[0;36m<cell line: 30>\u001b[0;34m()\u001b[0m\n\u001b[1;32m     <a href='vscode-notebook-cell://wsl%2Bubuntu/home/jessgschu/projects/monkeypox/notebooks/jess.ipynb#ch0000000vscode-remote?line=26'>27</a>\u001b[0m     \u001b[39mexcept\u001b[39;00m:\n\u001b[1;32m     <a href='vscode-notebook-cell://wsl%2Bubuntu/home/jessgschu/projects/monkeypox/notebooks/jess.ipynb#ch0000000vscode-remote?line=27'>28</a>\u001b[0m         \u001b[39mpass\u001b[39;00m\n\u001b[0;32m---> <a href='vscode-notebook-cell://wsl%2Bubuntu/home/jessgschu/projects/monkeypox/notebooks/jess.ipynb#ch0000000vscode-remote?line=29'>30</a>\u001b[0m (daily_df[\u001b[39m-\u001b[39;49m\u001b[39m1\u001b[39;49m])\u001b[39m.\u001b[39;49mshow(\u001b[39m1\u001b[39;49m)\n",
      "\u001b[0;31mTypeError\u001b[0m: 'Column' object is not callable"
     ]
    }
   ],
   "source": [
    "from kaggle.api.kaggle_api_extended import KaggleApi\n",
    "from pyspark.sql import SparkSession\n",
    "from datetime import date\n",
    "\n",
    "#create API connection and authenticate\n",
    "api = KaggleApi()\n",
    "api.authenticate()\n",
    "\n",
    "#download dataset \n",
    "api.dataset_download_file('deepcontractor/monkeypox-dataset-daily-updated','Daily_Country_Wise_Confirmed_Cases.csv')\n",
    "api.dataset_download_file('deepcontractor/monkeypox-dataset-daily-updated','Monkey_Pox_Cases_Worldwide.csv')\n",
    "\n",
    "#create spark session\n",
    "spark = SparkSession.builder.getOrCreate()\n",
    "\n",
    "#create spark df\n",
    "daily_df = spark.read.csv('Daily_Country_Wise_Confirmed_Cases.csv', header=True)\n",
    "\n",
    "def date_check():\n",
    "    today = date.today()\n",
    "    return str(today)\n",
    "\n",
    "def column_grab():\n",
    "    try:\n",
    "        daily_df = daily_df.select(daily_df['Country'],daily_df['2022-07-01'])\n",
    "        return daily_df\n",
    "    except:\n",
    "        pass\n",
    "\n",
    "(daily_df[-1]).show(1)\n"
   ]
  },
  {
   "cell_type": "code",
   "execution_count": 5,
   "metadata": {},
   "outputs": [
    {
     "ename": "SyntaxError",
     "evalue": "unexpected EOF while parsing (562682909.py, line 39)",
     "output_type": "error",
     "traceback": [
      "\u001b[0;36m  Input \u001b[0;32mIn [5]\u001b[0;36m\u001b[0m\n\u001b[0;31m    \u001b[0m\n\u001b[0m    ^\u001b[0m\n\u001b[0;31mSyntaxError\u001b[0m\u001b[0;31m:\u001b[0m unexpected EOF while parsing\n"
     ]
    }
   ],
   "source": [
    "from airflow import DAG\n",
    "from airflow.decorators import dag, task\n",
    "\n",
    "#create our tasks\n",
    "@task\n",
    "def api_pull():\n",
    "    \"\"\"\n",
    "    pulls the updated file from Kaggle\n",
    "    \"\"\"\n",
    "    api = KaggleApi()\n",
    "    api.authenticate()\n",
    "    #download dataset \n",
    "    api.dataset_download_file('deepcontractor/monkeypox-dataset-daily-updated','Daily_Country_Wise_Confirmed_Cases.csv')\n",
    "    #create spark session\n",
    "    spark = SparkSession.builder.getOrCreate()\n",
    "\n",
    "\n",
    "@task\n",
    "def main():\n",
    "    \"\"\"\n",
    "    main.py, update table with new data, do transformations\n",
    "    \"\"\"\n",
    "\n",
    "@task\n",
    "def load():\n",
    "    \"\"\"\n",
    "    load to bigqquery\n",
    "    \"\"\"\n",
    "\n",
    "#set dag attributes\n",
    "@dag(\n",
    "    schedule_interval='@daily',\n",
    "    start_date=datetime.utcnow(),\n",
    "    catchup=False,\n",
    ")\n",
    "#function that calls all of our tasks to create dag\n",
    "def monkeypox_dag():\n"
   ]
  },
  {
   "cell_type": "markdown",
   "metadata": {},
   "source": [
    "![image](DAG.png)"
   ]
  },
  {
   "cell_type": "code",
   "execution_count": 46,
   "metadata": {},
   "outputs": [
    {
     "name": "stdout",
     "output_type": "stream",
     "text": [
      "+-------------+----------+\n",
      "|      Country|2022-07-01|\n",
      "+-------------+----------+\n",
      "|      England|         0|\n",
      "|     Portugal|         0|\n",
      "|        Spain|         0|\n",
      "|United States|        64|\n",
      "|      Germany|        85|\n",
      "|      Belgium|         0|\n",
      "|       Sweden|         0|\n",
      "|        Italy|        33|\n",
      "|       Canada|         0|\n",
      "|       France|         0|\n",
      "+-------------+----------+\n",
      "only showing top 10 rows\n",
      "\n",
      "+-------------+---------------+---------------+------------+------------------+-----------------+\n",
      "|      Country|Confirmed_Cases|Suspected_Cases|Hospitalized|Travel_History_Yes|Travel_History_No|\n",
      "+-------------+---------------+---------------+------------+------------------+-----------------+\n",
      "|      England|         1185.0|            0.0|         5.0|               2.0|              7.0|\n",
      "|     Portugal|          402.0|            0.0|         0.0|               0.0|             34.0|\n",
      "|        Spain|         1196.0|            0.0|        11.0|               2.0|              0.0|\n",
      "|United States|          523.0|            0.0|         4.0|              19.0|              1.0|\n",
      "|       Canada|          287.0|            7.0|         1.0|               2.0|              0.0|\n",
      "|       Sweden|           28.0|            0.0|         0.0|               0.0|              0.0|\n",
      "|        Italy|          225.0|            1.0|        18.0|              19.0|              4.0|\n",
      "|       France|          498.0|            1.0|         1.0|               2.0|              1.0|\n",
      "|      Belgium|          117.0|            0.0|         2.0|               1.0|              0.0|\n",
      "|    Australia|           12.0|            0.0|         2.0|               8.0|              0.0|\n",
      "+-------------+---------------+---------------+------------+------------------+-----------------+\n",
      "only showing top 10 rows\n",
      "\n"
     ]
    }
   ],
   "source": [
    "# daily_df = spark.read.csv('Daily_Country_Wise_Confirmed_Cases.csv', header=True)\n",
    "\n",
    "def column_grab():\n",
    "    daily_df = spark.read.csv('Daily_Country_Wise_Confirmed_Cases.csv', header=True)\n",
    "    daily_df = daily_df.select(daily_df['Country'],daily_df['2022-07-01'])\n",
    "    return daily_df\n",
    "\n",
    "\n",
    "daily_df = column_grab()\n",
    "\n",
    "daily_df.show(10)\n",
    "\n",
    "dataset_df = spark.read.csv('Monkey_Pox_Cases_Worldwide.csv', header=True)\n",
    "\n",
    "dataset_df = dataset_df.join(daily_df,['Country'],how='left')\n",
    "\n",
    "dataset_df.withColumn('Confirmed_Cases', dataset_df['Confirmed_Cases'] + dataset_df['2022-07-01']).drop(dataset_df['2022-07-01']).show(10)"
   ]
  },
  {
   "cell_type": "code",
   "execution_count": 16,
   "metadata": {},
   "outputs": [
    {
     "name": "stdout",
     "output_type": "stream",
     "text": [
      "+-------------+---------------+----------+----------+----------+----------+----------+----------+----------+----------+----------+----------+----------+----------+----------+----------+----------+----------+----------+----------+----------+----------+----------+----------+----------+----------+----------+----------+----------+----------+----------+----------+----------+----------+----------+----------+----------+----------+----------+----------+----------+----------+----------+----------+----------+----------+----------+----------+----------+----------+----------+----------+----------+----------+\n",
      "|      Country|Confirmed_Cases|2022_05_06|2022_05_12|2022_05_13|2022_05_15|2022_05_17|2022_05_18|2022_05_19|2022_05_20|2022_05_21|2022_05_23|2022_05_24|2022_05_25|2022_05_26|2022_05_27|2022_05_28|2022_05_29|2022_05_30|2022_05_31|2022_06_01|2022_06_02|2022_06_03|2022_06_04|2022_06_06|2022_06_07|2022_06_08|2022_06_09|2022_06_10|2022_06_11|2022_06_12|2022_06_13|2022_06_14|2022_06_15|2022_06_16|2022_06_17|2022_06_18|2022_06_19|2022_06_20|2022_06_21|2022_06_22|2022_06_23|2022_06_24|2022_06_25|2022_06_26|2022_06_27|2022_06_28|2022_06_29|2022_06_30|2022_07_01|2022_07_02|2022_07_03|2022_07_04|2022_07_05|\n",
      "+-------------+---------------+----------+----------+----------+----------+----------+----------+----------+----------+----------+----------+----------+----------+----------+----------+----------+----------+----------+----------+----------+----------+----------+----------+----------+----------+----------+----------+----------+----------+----------+----------+----------+----------+----------+----------+----------+----------+----------+----------+----------+----------+----------+----------+----------+----------+----------+----------+----------+----------+----------+----------+----------+----------+\n",
      "|      England|         1285.0|         1|         1|         1|         4|         0|         2|         0|        11|         0|        36|        14|         7|        24|         0|         0|         0|        71|        11|         5|        11|        15|         0|        73|        18|         0|        43|         0|         0|       104|         0|        52|         0|        46|         0|         0|         0|       216|         0|         0|         0|       107|         0|       162|         0|         0|         0|       150|         0|         0|         0|       100|         0|\n",
      "|     Portugal|          415.0|         0|         0|         0|         0|         3|        11|         9|         0|         0|        14|         2|        10|         9|        16|         0|         0|        22|         4|        19|        19|         5|         0|        10|        13|        25|        18|         0|         0|         0|         0|        22|        10|         0|        35|         0|         0|        21|         7|        13|        11|        20|         0|         0|        17|         8|        18|        11|         0|         0|         0|         0|        13|\n",
      "|        Spain|         1258.0|         0|         0|         0|         0|         0|         7|         0|        23|        10|         1|         4|         8|        25|        21|         0|         9|         8|        20|         0|        26|        19|         0|        17|        27|        34|         0|        16|         0|         0|         0|        38|         0|       184|         1|         0|         0|        23|         0|         0|       215|         0|         0|         0|        64|         0|         0|       396|         0|         0|         0|        62|         0|\n",
      "|United States|          559.0|         0|         0|         0|         0|         0|         1|         0|         1|         0|         0|         0|         2|         5|         3|         0|         2|         0|         5|         0|         4|         5|         0|         1|         6|         5|         5|         2|         2|         0|        16|         7|        12|        16|        13|         0|         0|         0|        29|        14|        17|        28|         0|         0|        43|        62|        45|        44|        64|         0|         0|         0|       100|\n",
      "|       Canada|          300.0|         0|         0|         0|         0|         0|         0|         2|         3|         0|        10|         0|         0|        11|         0|         0|         0|         0|         1|        27|        23|         3|         0|         1|        20|         1|        11|         3|         0|         0|         8|        34|         0|         9|        10|         0|         0|         0|        33|         0|        25|         0|         0|         0|        22|        18|        12|         0|         0|         0|         0|        13|         0|\n",
      "+-------------+---------------+----------+----------+----------+----------+----------+----------+----------+----------+----------+----------+----------+----------+----------+----------+----------+----------+----------+----------+----------+----------+----------+----------+----------+----------+----------+----------+----------+----------+----------+----------+----------+----------+----------+----------+----------+----------+----------+----------+----------+----------+----------+----------+----------+----------+----------+----------+----------+----------+----------+----------+----------+----------+\n",
      "only showing top 5 rows\n",
      "\n"
     ]
    }
   ],
   "source": [
    "import quinn\n",
    "\n",
    "dataset_df = spark.read.csv('Monkey_Pox_Cases_Worldwide.csv', header=True)\n",
    "daily_df = spark.read.csv('Daily_Country_Wise_Confirmed_Cases.csv', header=True)\n",
    "\n",
    "total_df = dataset_df.select(dataset_df['Country'], dataset_df['Confirmed_Cases'])\n",
    "\n",
    "dataset_df = total_df.join(daily_df,['Country'],how='left')\n",
    "\n",
    "def dashes_to_underscores(s):\n",
    "    return s.replace(\"-\", \"_\")\n",
    "\n",
    "dataset_df = dataset_df.transform(quinn.with_columns_renamed(dashes_to_underscores))\n"
   ]
  }
 ],
 "metadata": {
  "kernelspec": {
   "display_name": "Python 3.8.10 ('venv': virtualenv)",
   "language": "python",
   "name": "python3"
  },
  "language_info": {
   "codemirror_mode": {
    "name": "ipython",
    "version": 3
   },
   "file_extension": ".py",
   "mimetype": "text/x-python",
   "name": "python",
   "nbconvert_exporter": "python",
   "pygments_lexer": "ipython3",
   "version": "3.8.10"
  },
  "orig_nbformat": 4,
  "vscode": {
   "interpreter": {
    "hash": "5b68b7a06e483e4d57db62916f93312bf342cb3fe683384fc513d22a91496b8a"
   }
  }
 },
 "nbformat": 4,
 "nbformat_minor": 2
}
