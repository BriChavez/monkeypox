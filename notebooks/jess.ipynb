{
 "cells": [
  {
   "cell_type": "code",
   "execution_count": null,
   "metadata": {},
   "outputs": [],
   "source": [
    "from kaggle.api.kaggle_api_extended import KaggleApi\n",
    "from pyspark.sql import SparkSession\n",
    "from datetime import date\n",
    "\n",
    "#create API connection and authenticate\n",
    "api = KaggleApi()\n",
    "api.authenticate()\n",
    "\n",
    "#download dataset \n",
    "api.dataset_download_file('deepcontractor/monkeypox-dataset-daily-updated','Daily_Country_Wise_Confirmed_Cases.csv')\n",
    "api.dataset_download_file('deepcontractor/monkeypox-dataset-daily-updated','Monkey_Pox_Cases_Worldwide.csv')\n",
    "\n",
    "#create spark session\n",
    "spark = SparkSession.builder.getOrCreate()\n",
    "\n",
    "#create spark df\n",
    "daily_df = spark.read.csv('Daily_Country_Wise_Confirmed_Cases.csv', header=True)\n",
    "\n",
    "def date_check():\n",
    "    today = date.today()\n",
    "    return str(today)\n",
    "\n",
    "def column_grab():\n",
    "    try:\n",
    "        daily_df = daily_df.select(daily_df['Country'],daily_df['2022-07-01'])\n",
    "        return daily_df\n",
    "    except:\n",
    "        pass\n"
   ]
  },
  {
   "cell_type": "code",
   "execution_count": 5,
   "metadata": {},
   "outputs": [
    {
     "ename": "SyntaxError",
     "evalue": "unexpected EOF while parsing (562682909.py, line 39)",
     "output_type": "error",
     "traceback": [
      "\u001b[0;36m  Input \u001b[0;32mIn [5]\u001b[0;36m\u001b[0m\n\u001b[0;31m    \u001b[0m\n\u001b[0m    ^\u001b[0m\n\u001b[0;31mSyntaxError\u001b[0m\u001b[0;31m:\u001b[0m unexpected EOF while parsing\n"
     ]
    }
   ],
   "source": [
    "from airflow import DAG\n",
    "from airflow.decorators import dag, task\n",
    "\n",
    "#create our tasks\n",
    "@task\n",
    "def api_pull():\n",
    "    \"\"\"\n",
    "    pulls the updated file from Kaggle\n",
    "    \"\"\"\n",
    "    api = KaggleApi()\n",
    "    api.authenticate()\n",
    "    #download dataset \n",
    "    api.dataset_download_file('deepcontractor/monkeypox-dataset-daily-updated','Daily_Country_Wise_Confirmed_Cases.csv')\n",
    "    #create spark session\n",
    "    spark = SparkSession.builder.getOrCreate()\n",
    "\n",
    "\n",
    "@task\n",
    "def main():\n",
    "    \"\"\"\n",
    "    main.py, update table with new data, do transformations\n",
    "    \"\"\"\n",
    "\n",
    "@task\n",
    "def load():\n",
    "    \"\"\"\n",
    "    load to bigqquery\n",
    "    \"\"\"\n",
    "\n",
    "#set dag attributes\n",
    "@dag(\n",
    "    schedule_interval='@daily',\n",
    "    start_date=datetime.utcnow(),\n",
    "    catchup=False,\n",
    ")\n",
    "#function that calls all of our tasks to create dag\n",
    "def monkeypox_dag():\n",
    "\n",
    "\n"
   ]
  },
  {
   "cell_type": "markdown",
   "metadata": {},
   "source": [
    "![image](DAG.png)"
   ]
  },
  {
   "cell_type": "code",
   "execution_count": 46,
   "metadata": {},
   "outputs": [
    {
     "name": "stdout",
     "output_type": "stream",
     "text": [
      "+-------------+----------+\n",
      "|      Country|2022-07-01|\n",
      "+-------------+----------+\n",
      "|      England|         0|\n",
      "|     Portugal|         0|\n",
      "|        Spain|         0|\n",
      "|United States|        64|\n",
      "|      Germany|        85|\n",
      "|      Belgium|         0|\n",
      "|       Sweden|         0|\n",
      "|        Italy|        33|\n",
      "|       Canada|         0|\n",
      "|       France|         0|\n",
      "+-------------+----------+\n",
      "only showing top 10 rows\n",
      "\n",
      "+-------------+---------------+---------------+------------+------------------+-----------------+\n",
      "|      Country|Confirmed_Cases|Suspected_Cases|Hospitalized|Travel_History_Yes|Travel_History_No|\n",
      "+-------------+---------------+---------------+------------+------------------+-----------------+\n",
      "|      England|         1185.0|            0.0|         5.0|               2.0|              7.0|\n",
      "|     Portugal|          402.0|            0.0|         0.0|               0.0|             34.0|\n",
      "|        Spain|         1196.0|            0.0|        11.0|               2.0|              0.0|\n",
      "|United States|          523.0|            0.0|         4.0|              19.0|              1.0|\n",
      "|       Canada|          287.0|            7.0|         1.0|               2.0|              0.0|\n",
      "|       Sweden|           28.0|            0.0|         0.0|               0.0|              0.0|\n",
      "|        Italy|          225.0|            1.0|        18.0|              19.0|              4.0|\n",
      "|       France|          498.0|            1.0|         1.0|               2.0|              1.0|\n",
      "|      Belgium|          117.0|            0.0|         2.0|               1.0|              0.0|\n",
      "|    Australia|           12.0|            0.0|         2.0|               8.0|              0.0|\n",
      "+-------------+---------------+---------------+------------+------------------+-----------------+\n",
      "only showing top 10 rows\n",
      "\n"
     ]
    }
   ],
   "source": [
    "# daily_df = spark.read.csv('Daily_Country_Wise_Confirmed_Cases.csv', header=True)\n",
    "\n",
    "def column_grab():\n",
    "    daily_df = spark.read.csv('Daily_Country_Wise_Confirmed_Cases.csv', header=True)\n",
    "    daily_df = daily_df.select(daily_df['Country'],daily_df['2022-07-01'])\n",
    "    return daily_df\n",
    "\n",
    "\n",
    "daily_df = column_grab()\n",
    "\n",
    "daily_df.show(10)\n",
    "\n",
    "dataset_df = spark.read.csv('Monkey_Pox_Cases_Worldwide.csv', header=True)\n",
    "\n",
    "dataset_df = dataset_df.join(daily_df,['Country'],how='left')\n",
    "\n",
    "dataset_df.withColumn('Confirmed_Cases', dataset_df['Confirmed_Cases'] + dataset_df['2022-07-01']).drop(dataset_df['2022-07-01']).show(10)"
   ]
  }
 ],
 "metadata": {
  "kernelspec": {
   "display_name": "Python 3.8.10 ('venv': virtualenv)",
   "language": "python",
   "name": "python3"
  },
  "language_info": {
   "codemirror_mode": {
    "name": "ipython",
    "version": 3
   },
   "file_extension": ".py",
   "mimetype": "text/x-python",
   "name": "python",
   "nbconvert_exporter": "python",
   "pygments_lexer": "ipython3",
   "version": "3.8.10"
  },
  "orig_nbformat": 4,
  "vscode": {
   "interpreter": {
    "hash": "5b68b7a06e483e4d57db62916f93312bf342cb3fe683384fc513d22a91496b8a"
   }
  }
 },
 "nbformat": 4,
 "nbformat_minor": 2
}
