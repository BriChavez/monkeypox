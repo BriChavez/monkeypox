{
 "cells": [
  {
   "cell_type": "code",
   "execution_count": 13,
   "metadata": {},
   "outputs": [
    {
     "name": "stdout",
     "output_type": "stream",
     "text": [
      "2022-06-30\n"
     ]
    }
   ],
   "source": [
    "from kaggle.api.kaggle_api_extended import KaggleApi\n",
    "from pyspark.sql import SparkSession\n",
    "from datetime import date\n",
    "\n",
    "#create API connection and authenticate\n",
    "api = KaggleApi()\n",
    "api.authenticate()\n",
    "\n",
    "#download dataset \n",
    "api.dataset_download_file('deepcontractor/monkeypox-dataset-daily-updated','Daily_Country_Wise_Confirmed_Cases.csv')\n",
    "\n",
    "#create spark session\n",
    "spark = SparkSession.builder.getOrCreate()\n",
    "\n",
    "#create spark df\n",
    "daily_df = spark.read.csv('Daily_Country_Wise_Confirmed_Cases.csv', header=True)\n",
    "\n"
   ]
  }
 ],
 "metadata": {
  "kernelspec": {
   "display_name": "Python 3.8.10 ('venv': virtualenv)",
   "language": "python",
   "name": "python3"
  },
  "language_info": {
   "codemirror_mode": {
    "name": "ipython",
    "version": 3
   },
   "file_extension": ".py",
   "mimetype": "text/x-python",
   "name": "python",
   "nbconvert_exporter": "python",
   "pygments_lexer": "ipython3",
   "version": "3.8.10"
  },
  "orig_nbformat": 4,
  "vscode": {
   "interpreter": {
    "hash": "5b68b7a06e483e4d57db62916f93312bf342cb3fe683384fc513d22a91496b8a"
   }
  }
 },
 "nbformat": 4,
 "nbformat_minor": 2
}
