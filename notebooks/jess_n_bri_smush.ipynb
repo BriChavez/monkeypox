{
 "cells": [
  {
   "cell_type": "code",
   "execution_count": 47,
   "metadata": {},
   "outputs": [
    {
     "name": "stdout",
     "output_type": "stream",
     "text": [
      "Warning: Your Kaggle API key is readable by other users on this system! To fix this, you can run 'chmod 600 /home/fossa/.kaggle/kaggle.json'\n"
     ]
    }
   ],
   "source": [
    "\"\"\"JESS\"\"\"\n",
    "\n",
    "from kaggle.api.kaggle_api_extended import KaggleApi\n",
    "from pyspark.sql import SparkSession\n",
    "from datetime import date\n",
    "\n",
    "#create API connection and authenticate\n",
    "api = KaggleApi()\n",
    "api.authenticate()\n",
    "\n",
    "#download dataset\n",
    "# api.dataset_download_file('deepcontractor/monkeypox-dataset-daily-updated',\n",
    "                        #   'Daily_Country_Wise_Confirmed_Cases.csv')\n",
    "# api.dataset_download_file(\n",
    "    # 'deepcontractor/monkeypox-dataset-daily-updated', 'Monkey_Pox_Cases_Worldwide.csv')\n",
    "\n",
    "#create spark session\n",
    "spark = SparkSession.builder.getOrCreate()\n"
   ]
  },
  {
   "cell_type": "code",
   "execution_count": 53,
   "metadata": {},
   "outputs": [
    {
     "name": "stdout",
     "output_type": "stream",
     "text": [
      "+-------------+----------+\n",
      "|      Country|2022-07-01|\n",
      "+-------------+----------+\n",
      "|      England|         0|\n",
      "|     Portugal|         0|\n",
      "|        Spain|         0|\n",
      "|United States|        64|\n",
      "|      Germany|        85|\n",
      "|      Belgium|         0|\n",
      "|       Sweden|         0|\n",
      "|        Italy|        33|\n",
      "|       Canada|         0|\n",
      "|       France|         0|\n",
      "+-------------+----------+\n",
      "only showing top 10 rows\n",
      "\n",
      "+-------------+---------------+---------------+------------+------------------+-----------------+\n",
      "|      Country|Confirmed_Cases|Suspected_Cases|Hospitalized|Travel_History_Yes|Travel_History_No|\n",
      "+-------------+---------------+---------------+------------+------------------+-----------------+\n",
      "|      England|         1285.0|            0.0|         5.0|               2.0|              7.0|\n",
      "|     Portugal|          433.0|            0.0|         0.0|               0.0|             34.0|\n",
      "|        Spain|         1258.0|            0.0|        11.0|               2.0|              0.0|\n",
      "|United States|          668.0|            0.0|         4.0|              20.0|              1.0|\n",
      "|       Canada|          349.0|            9.0|         1.0|               2.0|              0.0|\n",
      "|       Sweden|           28.0|            0.0|         0.0|               0.0|              0.0|\n",
      "|        Italy|          266.0|            1.0|        18.0|              19.0|              4.0|\n",
      "|       France|          577.0|            1.0|         1.0|               2.0|              1.0|\n",
      "|      Belgium|          168.0|            1.0|         2.0|               1.0|              0.0|\n",
      "|    Australia|           17.0|            0.0|         2.0|               8.0|              0.0|\n",
      "+-------------+---------------+---------------+------------+------------------+-----------------+\n",
      "only showing top 10 rows\n",
      "\n"
     ]
    },
    {
     "data": {
      "text/plain": [
       "[('Country', 'string'),\n",
       " ('Confirmed_Cases', 'string'),\n",
       " ('Suspected_Cases', 'string'),\n",
       " ('Hospitalized', 'string'),\n",
       " ('Travel_History_Yes', 'string'),\n",
       " ('Travel_History_No', 'string'),\n",
       " ('2022-07-01', 'string')]"
      ]
     },
     "execution_count": 53,
     "metadata": {},
     "output_type": "execute_result"
    }
   ],
   "source": [
    "\"\"\"JESS\"\"\"\n",
    "\n",
    "\n",
    "# daily_df = spark.read.csv('Daily_Country_Wise_Confirmed_Cases.csv', header=True)\n",
    "#pivot\n",
    "\n",
    "\n",
    "def column_grab():\n",
    "    daily_df = spark.read.csv(\n",
    "        '../data/Daily_Country_Wise_Confirmed_Cases.csv', header=True)\n",
    "    daily_df = daily_df.select(daily_df['Country'], daily_df['2022-07-01'])\n",
    "    return daily_df\n",
    "\n",
    "\n",
    "daily_df = column_grab()\n",
    "\n",
    "# daily_df.show(10)\n",
    "\n",
    "dataset_df = spark.read.csv('Monkey_Pox_Cases_Worldwide.csv', header=True)\n",
    "\n",
    "dataset_df = dataset_df.join(daily_df, ['Country'], how='left')\n",
    "\n",
    "dataset_df.withColumn('Confirmed_Cases', dataset_df['Confirmed_Cases'] +\n",
    "                      dataset_df['2022-07-01']).drop(dataset_df['2022-07-01']).show(10)\n",
    "dataset_df.dtypes"
   ]
  },
  {
   "cell_type": "code",
   "execution_count": null,
   "metadata": {},
   "outputs": [],
   "source": [
    "print(type(2022-07-01))\n"
   ]
  },
  {
   "cell_type": "code",
   "execution_count": 54,
   "metadata": {},
   "outputs": [
    {
     "ename": "SyntaxError",
     "evalue": "invalid syntax (1381055433.py, line 25)",
     "output_type": "error",
     "traceback": [
      "\u001b[0;36m  File \u001b[0;32m\"/tmp/ipykernel_7758/1381055433.py\"\u001b[0;36m, line \u001b[0;32m25\u001b[0m\n\u001b[0;31m    print(type(pd_pox.2022-07-01))\u001b[0m\n\u001b[0m                         ^\u001b[0m\n\u001b[0;31mSyntaxError\u001b[0m\u001b[0;31m:\u001b[0m invalid syntax\n"
     ]
    }
   ],
   "source": [
    "\"\"\"BRI\"\"\"\n",
    "\n",
    "\n",
    "import pandas as pd\n",
    "import numpy as np\n",
    "\n",
    "# turn the spark df into pandas df\n",
    "pd_pox = dataset_df.toPandas()\n",
    "\n",
    "pd_pox = pd_pox.fillna(0)\n",
    "pd.isnull(pd_pox).sum()\n",
    "\n",
    "# drop the silly enumerated index and replace it with country names\n",
    "# pd_pox.set_index('Country', drop=True, inplace=True)\n",
    "# this will take our row and column indices and flip 'em\n",
    "# flipped_df = pd_pox.transpose()\n",
    "pd_pox.Confirmed_Cases = pd.to_numeric(pd_pox.Confirmed_Cases)\n",
    "                # ('Confirmed_Cases', 'string'),\n",
    "                # ('Suspected_Cases', 'string'),\n",
    "                # ('Hospitalized', 'string'),\n",
    "                # ('Travel_History_Yes', 'string'),\n",
    "                # ('Travel_History_No', 'string'),\n",
    "                # ('2022-07-01', 'string'),\n",
    "pd_pox.dtypes\n",
    "print(type(pd_pox.2022-07-01))\n",
    "# )\n",
    "# pd_pox.to_csv('../data/daily_cases.csv')\n",
    "# set df data types to floats and then into ints\n",
    "# pd_pox = pd_pox.astype(float).astype('Int64')\n",
    "# # # see if we have any null values\n",
    "# pd.isnull(flipped_df).sum()\n",
    "# # # replace them with 0\n",
    "# flipped_df = flipped_df.fillna(0)\n",
    "\n",
    "# pd.isnull(flipped_df).sum()\n",
    "\n",
    "\n"
   ]
  },
  {
   "cell_type": "code",
   "execution_count": null,
   "metadata": {},
   "outputs": [],
   "source": [
    "import quinn\n",
    "\n",
    "daily_df = spark.read.csv(\n",
    "    '../data/Daily_Country_Wise_Confirmed_Cases.csv', header=True)\n",
    "\n",
    "\n",
    "def dashes_to_underscores(s):\n",
    "    return s.replace(\"-\", \"_\")\n",
    "\n",
    "\n",
    "dataset_df = daily_df.transform(\n",
    "    quinn.with_columns_renamed(dashes_to_underscores))\n",
    "\n",
    "pandas_DF = dataset_df.toPandas()\n",
    "\n",
    "pandas_DF.set_index('Country', inplace=True)\n",
    "transpose_df = pandas_DF.transpose()\n",
    "\n",
    "transpose_df.reset_index(inplace=True)\n",
    "\n",
    "spark_df = spark.createDataFrame(transpose_df)\n",
    "spark_df = spark_df.withColumnRenamed('index', 'Date')\n",
    "\n",
    "spark_df.show()\n"
   ]
  },
  {
   "cell_type": "code",
   "execution_count": 14,
   "metadata": {},
   "outputs": [
    {
     "ename": "AttributeError",
     "evalue": "'DataFrame' object has no attribute 'info'",
     "output_type": "error",
     "traceback": [
      "\u001b[0;31m---------------------------------------------------------------------------\u001b[0m",
      "\u001b[0;31mAttributeError\u001b[0m                            Traceback (most recent call last)",
      "\u001b[0;32m/tmp/ipykernel_7758/52988424.py\u001b[0m in \u001b[0;36m<module>\u001b[0;34m\u001b[0m\n\u001b[0;32m----> 1\u001b[0;31m \u001b[0mspark_df\u001b[0m\u001b[0;34m.\u001b[0m\u001b[0minfo\u001b[0m\u001b[0;34m(\u001b[0m\u001b[0;34m)\u001b[0m\u001b[0;34m\u001b[0m\u001b[0;34m\u001b[0m\u001b[0m\n\u001b[0m",
      "\u001b[0;32m~/deb/tests/monkey_pox/monkeypox/venv/lib/python3.7/site-packages/pyspark/sql/dataframe.py\u001b[0m in \u001b[0;36m__getattr__\u001b[0;34m(self, name)\u001b[0m\n\u001b[1;32m   1987\u001b[0m         \u001b[0;32mif\u001b[0m \u001b[0mname\u001b[0m \u001b[0;32mnot\u001b[0m \u001b[0;32min\u001b[0m \u001b[0mself\u001b[0m\u001b[0;34m.\u001b[0m\u001b[0mcolumns\u001b[0m\u001b[0;34m:\u001b[0m\u001b[0;34m\u001b[0m\u001b[0;34m\u001b[0m\u001b[0m\n\u001b[1;32m   1988\u001b[0m             raise AttributeError(\n\u001b[0;32m-> 1989\u001b[0;31m                 \u001b[0;34m\"'%s' object has no attribute '%s'\"\u001b[0m \u001b[0;34m%\u001b[0m \u001b[0;34m(\u001b[0m\u001b[0mself\u001b[0m\u001b[0;34m.\u001b[0m\u001b[0m__class__\u001b[0m\u001b[0;34m.\u001b[0m\u001b[0m__name__\u001b[0m\u001b[0;34m,\u001b[0m \u001b[0mname\u001b[0m\u001b[0;34m)\u001b[0m\u001b[0;34m\u001b[0m\u001b[0;34m\u001b[0m\u001b[0m\n\u001b[0m\u001b[1;32m   1990\u001b[0m             )\n\u001b[1;32m   1991\u001b[0m         \u001b[0mjc\u001b[0m \u001b[0;34m=\u001b[0m \u001b[0mself\u001b[0m\u001b[0;34m.\u001b[0m\u001b[0m_jdf\u001b[0m\u001b[0;34m.\u001b[0m\u001b[0mapply\u001b[0m\u001b[0;34m(\u001b[0m\u001b[0mname\u001b[0m\u001b[0;34m)\u001b[0m\u001b[0;34m\u001b[0m\u001b[0;34m\u001b[0m\u001b[0m\n",
      "\u001b[0;31mAttributeError\u001b[0m: 'DataFrame' object has no attribute 'info'"
     ]
    }
   ],
   "source": [
    "spark_df.info()"
   ]
  },
  {
   "cell_type": "code",
   "execution_count": null,
   "metadata": {},
   "outputs": [],
   "source": [
    "\"\"\"BRI\"\"\"\n",
    "\n",
    "import quinn\n",
    "from pyspark.sql import SparkSession\n",
    "\n",
    "spark = SparkSession.builder.getOrCreate()\n"
   ]
  },
  {
   "cell_type": "code",
   "execution_count": null,
   "metadata": {},
   "outputs": [],
   "source": [
    "\"\"\"BRI\"\"\"\n",
    "\n",
    "dataset_df = spark.read.csv('Monkey_Pox_Cases_Worldwide.csv', header=True)\n",
    "daily_df = spark.read.csv(\n",
    "    'Daily_Country_Wise_Confirmed_Cases.csv', header=True)\n",
    "\n",
    "total_df = dataset_df.select(\n",
    "    dataset_df['Country'], dataset_df['Confirmed_Cases'])\n",
    "\n",
    "dataset_df = total_df.join(daily_df, ['Country'], how='left')\n",
    "\n",
    "\n",
    "def dashes_to_underscores(s):\n",
    "    return s.replace(\"-\", \"_\")\n",
    "\n",
    "\n",
    "dataset_df = dataset_df.transform(\n",
    "    quinn.with_columns_renamed(dashes_to_underscores))\n",
    "\n",
    "# dataset_df.write.option('header', True) \\\n",
    "#                 .csv('../data/daily_cases.csv')\n"
   ]
  }
 ],
 "metadata": {
  "kernelspec": {
   "display_name": "Python 3.7.13 ('venv': venv)",
   "language": "python",
   "name": "python3"
  },
  "language_info": {
   "codemirror_mode": {
    "name": "ipython",
    "version": 3
   },
   "file_extension": ".py",
   "mimetype": "text/x-python",
   "name": "python",
   "nbconvert_exporter": "python",
   "pygments_lexer": "ipython3",
   "version": "3.7.13"
  },
  "orig_nbformat": 4,
  "vscode": {
   "interpreter": {
    "hash": "5176a492cff03d096a1eeda30155d13c90600b4ba6733f04f70e8262b03a11c3"
   }
  }
 },
 "nbformat": 4,
 "nbformat_minor": 2
}
