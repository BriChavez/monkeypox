{
 "cells": [
  {
   "cell_type": "code",
   "execution_count": 1,
   "metadata": {},
   "outputs": [
    {
     "name": "stdout",
     "output_type": "stream",
     "text": [
      "22/07/07 12:32:08 WARN Utils: Your hostname, fossa-dsa-001 resolves to a loopback address: 127.0.1.1; using 192.168.0.111 instead (on interface wlp3s0)\n",
      "22/07/07 12:32:08 WARN Utils: Set SPARK_LOCAL_IP if you need to bind to another address\n"
     ]
    },
    {
     "name": "stderr",
     "output_type": "stream",
     "text": [
      "Setting default log level to \"WARN\".\n",
      "To adjust logging level use sc.setLogLevel(newLevel). For SparkR, use setLogLevel(newLevel).\n"
     ]
    },
    {
     "name": "stdout",
     "output_type": "stream",
     "text": [
      "22/07/07 12:32:09 WARN NativeCodeLoader: Unable to load native-hadoop library for your platform... using builtin-java classes where applicable\n"
     ]
    }
   ],
   "source": [
    "import quinn\n",
    "from pyspark.sql import SparkSession\n",
    "\n",
    "spark = SparkSession.builder.getOrCreate()\n"
   ]
  },
  {
   "cell_type": "code",
   "execution_count": null,
   "metadata": {},
   "outputs": [],
   "source": [
    "from pyspark.sql import SparkSession\n",
    "from datetime import date\n",
    "import quinn\n",
    "from pyspark.sql.functions import lit\n",
    "\n",
    "\n",
    "def dashes_to_underscores(s):\n",
    "    return s.replace(\"-\", \"_\")\n",
    "\n",
    "\n",
    "#create spark session\n",
    "spark = SparkSession.builder.getOrCreate()\n",
    "#create df\n",
    "daily_df = spark.read.csv(\n",
    "    'Daily_Country_Wise_Confirmed_Cases.csv', header=True)\n",
    "#perform transformations\n",
    "dataset_df = daily_df.transform(\n",
    "    quinn.with_columns_renamed(dashes_to_underscores))\n",
    "#create pandas df and set index\n",
    "pandas_df = daily_df.toPandas()\n",
    "pandas_df.set_index('Country', inplace=True)\n",
    "#transpose and reset index\n",
    "transpose_df = pandas_df.transpose()\n",
    "transpose_df.reset_index(inplace=True)\n",
    "#create spark df\n",
    "spark_df = spark.createDataFrame(transpose_df)\n",
    "spark_df = spark_df.withColumnRenamed('index', 'Date')\n",
    "\n",
    "spark_df.write.csv(f\"Daily_CC_{date.today()}\")\n"
   ]
  },
  {
   "cell_type": "code",
   "execution_count": 20,
   "metadata": {},
   "outputs": [
    {
     "data": {
      "text/plain": [
       "Index(['England', 'Portugal', 'Spain', 'United States', 'Canada', 'Sweden',\n",
       "       'Italy', 'France', 'Belgium', 'Australia', 'Germany', 'Netherlands',\n",
       "       'Israel', 'Switzerland', 'Greece', 'Austria', 'Argentina', 'Denmark',\n",
       "       'Morocco', 'Slovenia', 'Scotland', 'Czech Republic',\n",
       "       'United Arab Emirates', 'Finland', 'Wales', 'Northern Ireland', 'Sudan',\n",
       "       'Bolivia', 'Iran', 'Ecuador', 'Malta', 'Ireland', 'Mexico', 'Pakistan',\n",
       "       'French Guiana', 'Thailand', 'Peru', 'Brazil', 'Malaysia', 'Hungary',\n",
       "       'Norway', 'Paraguay', 'Costa Rica', 'Gibraltar', 'Mauritius', 'Haiti',\n",
       "       'Uruguay', 'Latvia', 'Cayman Islands', 'Kosovo', 'Turkey', 'Bahamas',\n",
       "       'Ghana', 'India', 'Iceland', 'Poland', 'Bangladesh', 'Uganda',\n",
       "       'Cambodia', 'Malawi', 'Venezuela', 'Romania', 'Georgia', 'Slovakia',\n",
       "       'Luxembourg', 'Nepal', 'Chile', 'Serbia', 'Lebanon', 'South Korea',\n",
       "       'Singapore', 'South Africa', 'Taiwan', 'Colombia', 'Croatia',\n",
       "       'Bulgaria', 'Somalia', 'Zambia', 'Fiji', 'Benin', 'Estonia',\n",
       "       'Puerto Rico'],\n",
       "      dtype='object', name='Country')"
      ]
     },
     "execution_count": 20,
     "metadata": {},
     "output_type": "execute_result"
    }
   ],
   "source": [
    "import pandas as pd\n",
    "import numpy as np\n",
    "\n",
    "# turn the spark df into pandas df\n",
    "pd_pox = dataset_df.toPandas()\n",
    "\n",
    "pd_pox = pd_pox.fillna(0) \n",
    "pd.isnull(pd_pox).sum()\n",
    "# pd_pox.\n",
    "pd_pox.to_csv('../data/daily_cases.csv')\n",
    "# drop the silly enumerated index and replace it with count=rty names\n",
    "pd_pox.set_index('Country', drop=True, inplace=True)\n",
    "# this will take our row and column indices and flip 'em\n",
    "# flipped_df = pd_pox.transpose()\n",
    "\n",
    "\n",
    "# # set df data types to floats and then into ints\n",
    "# flipped_df = flipped_df.astype(float).astype('Int64')\n",
    "# # see if we have any null values\n",
    "# pd.isnull(flipped_df).sum()\n",
    "# # replace them with 0\n",
    "# flipped_df = flipped_df.fillna(0)\n",
    "\n",
    "# pd.isnull(flipped_df).sum()\n",
    "\n",
    "pd_pox.index\n"
   ]
  },
  {
   "cell_type": "code",
   "execution_count": 4,
   "metadata": {},
   "outputs": [
    {
     "data": {
      "text/html": [
       "<div>\n",
       "<style scoped>\n",
       "    .dataframe tbody tr th:only-of-type {\n",
       "        vertical-align: middle;\n",
       "    }\n",
       "\n",
       "    .dataframe tbody tr th {\n",
       "        vertical-align: top;\n",
       "    }\n",
       "\n",
       "    .dataframe thead th {\n",
       "        text-align: right;\n",
       "    }\n",
       "</style>\n",
       "<table border=\"1\" class=\"dataframe\">\n",
       "  <thead>\n",
       "    <tr style=\"text-align: right;\">\n",
       "      <th>Country</th>\n",
       "      <th>Argentina</th>\n",
       "      <th>Australia</th>\n",
       "      <th>Austria</th>\n",
       "      <th>Bahamas</th>\n",
       "      <th>Bangladesh</th>\n",
       "      <th>Belgium</th>\n",
       "      <th>Benin</th>\n",
       "      <th>Bolivia</th>\n",
       "      <th>Brazil</th>\n",
       "      <th>Bulgaria</th>\n",
       "      <th>...</th>\n",
       "      <th>Taiwan</th>\n",
       "      <th>Thailand</th>\n",
       "      <th>Turkey</th>\n",
       "      <th>Uganda</th>\n",
       "      <th>United Arab Emirates</th>\n",
       "      <th>United States</th>\n",
       "      <th>Uruguay</th>\n",
       "      <th>Venezuela</th>\n",
       "      <th>Wales</th>\n",
       "      <th>Zambia</th>\n",
       "    </tr>\n",
       "  </thead>\n",
       "  <tbody>\n",
       "    <tr>\n",
       "      <th>Confirmed_Cases</th>\n",
       "      <td>6</td>\n",
       "      <td>12</td>\n",
       "      <td>37</td>\n",
       "      <td>0</td>\n",
       "      <td>0</td>\n",
       "      <td>168</td>\n",
       "      <td>3</td>\n",
       "      <td>0</td>\n",
       "      <td>79</td>\n",
       "      <td>3</td>\n",
       "      <td>...</td>\n",
       "      <td>1</td>\n",
       "      <td>0</td>\n",
       "      <td>1</td>\n",
       "      <td>0</td>\n",
       "      <td>13</td>\n",
       "      <td>559</td>\n",
       "      <td>0</td>\n",
       "      <td>1</td>\n",
       "      <td>15</td>\n",
       "      <td>0</td>\n",
       "    </tr>\n",
       "  </tbody>\n",
       "</table>\n",
       "<p>1 rows × 82 columns</p>\n",
       "</div>"
      ],
      "text/plain": [
       "Country          Argentina  Australia  Austria  Bahamas  Bangladesh  Belgium  \\\n",
       "Confirmed_Cases          6         12       37        0           0      168   \n",
       "\n",
       "Country          Benin  Bolivia  Brazil  Bulgaria  ...  Taiwan  Thailand  \\\n",
       "Confirmed_Cases      3        0      79         3  ...       1         0   \n",
       "\n",
       "Country          Turkey  Uganda  United Arab Emirates  United States  Uruguay  \\\n",
       "Confirmed_Cases       1       0                    13            559        0   \n",
       "\n",
       "Country          Venezuela  Wales  Zambia  \n",
       "Confirmed_Cases          1     15       0  \n",
       "\n",
       "[1 rows x 82 columns]"
      ]
     },
     "execution_count": 4,
     "metadata": {},
     "output_type": "execute_result"
    }
   ],
   "source": [
    "import pandas as pd\n",
    "\n",
    "# turn the spark df into pandas df\n",
    "pd_pox = dataset_df.toPandas()\n",
    "# type(pd_pox)\n",
    "\n",
    "# pd_pox.set_index('Country', drop = True, inplace = True)\n",
    "country_cases = pd_pox.pivot_table(columns = 'Country', values = 'Confirmed_Cases', fill_value = 0)\n",
    "# pd_pox.info()\n",
    "# pd_pox.describe\n",
    "country_cases\n",
    "\n",
    "# pd.isnull(country_cases)\n",
    "# pd_pox.index\n",
    "\n",
    "\n"
   ]
  },
  {
   "cell_type": "code",
   "execution_count": 1,
   "metadata": {},
   "outputs": [],
   "source": [
    "# Imports the Google Cloud client library\n",
    "import os\n",
    "from google.cloud import storage\n",
    "\n",
    "# Instantiates a client\n",
    "\n",
    "os.environ[\"GOOGLE_APPLICATION_CREDENTIALS\"] = \"/home/fossa/data/dont_worry_about_it/dearHenry.json\"\n",
    "client = storage.Client()\n",
    "\n",
    "\n",
    "# Retrieve an existing bucket\n",
    "# https://console.cloud.google.com/storage/browser/hole-in-the/\n",
    "bucket = client.get_bucket('hole-in-the')\n",
    "# upload the csv to the bucket\n",
    "blob = bucket.blob('daily_cases.csv')\n",
    "blob.upload_from_filename('../data/daily_cases.csv')\n"
   ]
  },
  {
   "cell_type": "code",
   "execution_count": null,
   "metadata": {},
   "outputs": [],
   "source": [
    "from google.cloud import bigquery\n",
    "import pandas as pd \n",
    "import pandas_gbq\n",
    "\n",
    "# daily_cases = pd.read_csv('../data/Daily_Country_Wise_Confirmed_Cases.csv')\n",
    "# cases_worldwide = pd.read_csv('../data/Monkey_Pox_Cases_Worldwide.csv')\n",
    "daily_cases = pd.read_csv('../data/daily_cases.csv')\n",
    "\n",
    "os.environ[\"GOOGLE_APPLICATION_CREDENTIALS\"] = \"/home/fossa/data/dont_worry_about_it/dearHenry.json\"\n",
    "client = bigquery.Client()\n",
    "dataset_id = f\"{client.project}.daily_cases\"\n",
    "dataset = bigquery.Dataset(dataset_id)\n",
    "dataset.location = 'us'\n",
    "dataset = client.create_dataset(dataset, exists_ok = True, timeout =100)\n",
    "project_id = 'dearliza'\n",
    "table_id = 'daily_cases.daily_cases_data'\n",
    "\n",
    "pandas_gbq.to_gbq(daily_cases, table_id, project_id = project_id, if_exists = 'replace', api_method = 'load_csv')"
   ]
  }
 ],
 "metadata": {
  "kernelspec": {
   "display_name": "Python 3.7.13 ('venv': venv)",
   "language": "python",
   "name": "python3"
  },
  "language_info": {
   "codemirror_mode": {
    "name": "ipython",
    "version": 3
   },
   "file_extension": ".py",
   "mimetype": "text/x-python",
   "name": "python",
   "nbconvert_exporter": "python",
   "pygments_lexer": "ipython3",
   "version": "3.7.13"
  },
  "orig_nbformat": 4,
  "vscode": {
   "interpreter": {
    "hash": "5176a492cff03d096a1eeda30155d13c90600b4ba6733f04f70e8262b03a11c3"
   }
  }
 },
 "nbformat": 4,
 "nbformat_minor": 2
}
