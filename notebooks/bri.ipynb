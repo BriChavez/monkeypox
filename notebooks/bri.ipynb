{
 "cells": [
  {
   "cell_type": "code",
   "execution_count": 1,
   "metadata": {},
   "outputs": [
    {
     "name": "stdout",
     "output_type": "stream",
     "text": [
      "22/07/07 09:27:54 WARN Utils: Your hostname, fossa-dsa-001 resolves to a loopback address: 127.0.1.1; using 192.168.0.111 instead (on interface wlp3s0)\n",
      "22/07/07 09:27:54 WARN Utils: Set SPARK_LOCAL_IP if you need to bind to another address\n"
     ]
    },
    {
     "name": "stderr",
     "output_type": "stream",
     "text": [
      "Setting default log level to \"WARN\".\n",
      "To adjust logging level use sc.setLogLevel(newLevel). For SparkR, use setLogLevel(newLevel).\n"
     ]
    },
    {
     "name": "stdout",
     "output_type": "stream",
     "text": [
      "22/07/07 09:27:55 WARN NativeCodeLoader: Unable to load native-hadoop library for your platform... using builtin-java classes where applicable\n",
      "22/07/07 09:27:57 WARN Utils: Service 'SparkUI' could not bind on port 4040. Attempting port 4041.\n"
     ]
    }
   ],
   "source": [
    "import quinn\n",
    "from pyspark.sql import SparkSession\n",
    "\n",
    "spark = SparkSession.builder.getOrCreate()\n"
   ]
  },
  {
   "cell_type": "code",
   "execution_count": 2,
   "metadata": {},
   "outputs": [],
   "source": [
    "\n",
    "dataset_df = spark.read.csv('Monkey_Pox_Cases_Worldwide.csv', header=True)\n",
    "daily_df = spark.read.csv(\n",
    "    'Daily_Country_Wise_Confirmed_Cases.csv', header=True)\n",
    "\n",
    "total_df = dataset_df.select(\n",
    "    dataset_df['Country'], dataset_df['Confirmed_Cases'])\n",
    "\n",
    "dataset_df = total_df.join(daily_df, ['Country'], how='left')\n",
    "\n",
    "\n",
    "def dashes_to_underscores(s):\n",
    "    return s.replace(\"-\", \"_\")\n",
    "\n",
    "\n",
    "dataset_df = dataset_df.transform(\n",
    "    quinn.with_columns_renamed(dashes_to_underscores))\n",
    "\n",
    "# dataset_df.write.option('header', True) \\\n",
    "                # .csv('../data/daily_cases.csv')\n"
   ]
  },
  {
   "cell_type": "code",
   "execution_count": 3,
   "metadata": {},
   "outputs": [
    {
     "name": "stdout",
     "output_type": "stream",
     "text": [
      "22/07/07 09:28:20 WARN package: Truncated the string representation of a plan since it was too large. This behavior can be adjusted by setting 'spark.sql.debug.maxToStringFields'.\n"
     ]
    },
    {
     "data": {
      "text/plain": [
       "Index(['England', 'Portugal', 'Spain', 'United States', 'Canada', 'Sweden',\n",
       "       'Italy', 'France', 'Belgium', 'Australia', 'Germany', 'Netherlands',\n",
       "       'Israel', 'Switzerland', 'Greece', 'Austria', 'Argentina', 'Denmark',\n",
       "       'Morocco', 'Slovenia', 'Scotland', 'Czech Republic',\n",
       "       'United Arab Emirates', 'Finland', 'Wales', 'Northern Ireland', 'Sudan',\n",
       "       'Bolivia', 'Iran', 'Ecuador', 'Malta', 'Ireland', 'Mexico', 'Pakistan',\n",
       "       'French Guiana', 'Thailand', 'Peru', 'Brazil', 'Malaysia', 'Hungary',\n",
       "       'Norway', 'Paraguay', 'Costa Rica', 'Gibraltar', 'Mauritius', 'Haiti',\n",
       "       'Uruguay', 'Latvia', 'Cayman Islands', 'Kosovo', 'Turkey', 'Bahamas',\n",
       "       'Ghana', 'India', 'Iceland', 'Poland', 'Bangladesh', 'Uganda',\n",
       "       'Cambodia', 'Malawi', 'Venezuela', 'Romania', 'Georgia', 'Slovakia',\n",
       "       'Luxembourg', 'Nepal', 'Chile', 'Serbia', 'Lebanon', 'South Korea',\n",
       "       'Singapore', 'South Africa', 'Taiwan', 'Colombia', 'Croatia',\n",
       "       'Bulgaria', 'Somalia', 'Zambia', 'Fiji', 'Benin', 'Estonia',\n",
       "       'Puerto Rico'],\n",
       "      dtype='object', name='Country')"
      ]
     },
     "execution_count": 3,
     "metadata": {},
     "output_type": "execute_result"
    }
   ],
   "source": [
    "import pandas as pd\n",
    "import numpy as np\n",
    "\n",
    "# turn the spark df into pandas df\n",
    "pd_pox = dataset_df.toPandas()\n",
    "\n",
    "# drop the silly enumerated index and replace it with count=rty names\n",
    "pd_pox.set_index('Country', drop=True, inplace=True)\n",
    "# this will take our row and column indices and flip 'em\n",
    "flipped_df = pd_pox.transpose()\n",
    "\n",
    "\n",
    "# set df data types to floats and then into ints\n",
    "flipped_df = flipped_df.astype(float).astype('Int64')\n",
    "# see if we have any null values\n",
    "\n",
    "# replace them with 0\n",
    "flipped_df = flipped_df.fillna(0)\n",
    "\n",
    "# pd.isnull(flipped_df).sum()\n",
    "\n",
    "flipped_df.columns\n"
   ]
  },
  {
   "cell_type": "code",
   "execution_count": 4,
   "metadata": {},
   "outputs": [
    {
     "data": {
      "text/html": [
       "<div>\n",
       "<style scoped>\n",
       "    .dataframe tbody tr th:only-of-type {\n",
       "        vertical-align: middle;\n",
       "    }\n",
       "\n",
       "    .dataframe tbody tr th {\n",
       "        vertical-align: top;\n",
       "    }\n",
       "\n",
       "    .dataframe thead th {\n",
       "        text-align: right;\n",
       "    }\n",
       "</style>\n",
       "<table border=\"1\" class=\"dataframe\">\n",
       "  <thead>\n",
       "    <tr style=\"text-align: right;\">\n",
       "      <th>Country</th>\n",
       "      <th>Argentina</th>\n",
       "      <th>Australia</th>\n",
       "      <th>Austria</th>\n",
       "      <th>Bahamas</th>\n",
       "      <th>Bangladesh</th>\n",
       "      <th>Belgium</th>\n",
       "      <th>Benin</th>\n",
       "      <th>Bolivia</th>\n",
       "      <th>Brazil</th>\n",
       "      <th>Bulgaria</th>\n",
       "      <th>...</th>\n",
       "      <th>Taiwan</th>\n",
       "      <th>Thailand</th>\n",
       "      <th>Turkey</th>\n",
       "      <th>Uganda</th>\n",
       "      <th>United Arab Emirates</th>\n",
       "      <th>United States</th>\n",
       "      <th>Uruguay</th>\n",
       "      <th>Venezuela</th>\n",
       "      <th>Wales</th>\n",
       "      <th>Zambia</th>\n",
       "    </tr>\n",
       "  </thead>\n",
       "  <tbody>\n",
       "    <tr>\n",
       "      <th>Confirmed_Cases</th>\n",
       "      <td>6</td>\n",
       "      <td>12</td>\n",
       "      <td>37</td>\n",
       "      <td>0</td>\n",
       "      <td>0</td>\n",
       "      <td>168</td>\n",
       "      <td>3</td>\n",
       "      <td>0</td>\n",
       "      <td>79</td>\n",
       "      <td>3</td>\n",
       "      <td>...</td>\n",
       "      <td>1</td>\n",
       "      <td>0</td>\n",
       "      <td>1</td>\n",
       "      <td>0</td>\n",
       "      <td>13</td>\n",
       "      <td>559</td>\n",
       "      <td>0</td>\n",
       "      <td>1</td>\n",
       "      <td>15</td>\n",
       "      <td>0</td>\n",
       "    </tr>\n",
       "  </tbody>\n",
       "</table>\n",
       "<p>1 rows × 82 columns</p>\n",
       "</div>"
      ],
      "text/plain": [
       "Country          Argentina  Australia  Austria  Bahamas  Bangladesh  Belgium  \\\n",
       "Confirmed_Cases          6         12       37        0           0      168   \n",
       "\n",
       "Country          Benin  Bolivia  Brazil  Bulgaria  ...  Taiwan  Thailand  \\\n",
       "Confirmed_Cases      3        0      79         3  ...       1         0   \n",
       "\n",
       "Country          Turkey  Uganda  United Arab Emirates  United States  Uruguay  \\\n",
       "Confirmed_Cases       1       0                    13            559        0   \n",
       "\n",
       "Country          Venezuela  Wales  Zambia  \n",
       "Confirmed_Cases          1     15       0  \n",
       "\n",
       "[1 rows x 82 columns]"
      ]
     },
     "execution_count": 4,
     "metadata": {},
     "output_type": "execute_result"
    }
   ],
   "source": [
    "import pandas as pd\n",
    "\n",
    "# turn the spark df into pandas df\n",
    "pd_pox = dataset_df.toPandas()\n",
    "# type(pd_pox)\n",
    "\n",
    "# pd_pox.set_index('Country', drop = True, inplace = True)\n",
    "country_cases = pd_pox.pivot_table(columns = 'Country', values = 'Confirmed_Cases', fill_value = 0)\n",
    "# pd_pox.info()\n",
    "# pd_pox.describe\n",
    "country_cases\n",
    "\n",
    "# pd.isnull(country_cases)\n",
    "# pd_pox.index\n",
    "\n",
    "\n"
   ]
  },
  {
   "cell_type": "code",
   "execution_count": 2,
   "metadata": {},
   "outputs": [
    {
     "ename": "NameError",
     "evalue": "name 'pd_pox' is not defined",
     "output_type": "error",
     "traceback": [
      "\u001b[0;31m---------------------------------------------------------------------------\u001b[0m",
      "\u001b[0;31mNameError\u001b[0m                                 Traceback (most recent call last)",
      "\u001b[0;32m/tmp/ipykernel_5672/2562555093.py\u001b[0m in \u001b[0;36m<module>\u001b[0;34m\u001b[0m\n\u001b[1;32m      2\u001b[0m \u001b[0;34m\u001b[0m\u001b[0m\n\u001b[1;32m      3\u001b[0m \u001b[0;34m\u001b[0m\u001b[0m\n\u001b[0;32m----> 4\u001b[0;31m total_cases = pd_pox.pivot_table(\n\u001b[0m\u001b[1;32m      5\u001b[0m     columns='Country', values='Confirmed_Cases', fill_value=0)\n\u001b[1;32m      6\u001b[0m \u001b[0;34m\u001b[0m\u001b[0m\n",
      "\u001b[0;31mNameError\u001b[0m: name 'pd_pox' is not defined"
     ]
    }
   ],
   "source": [
    "# new_df = what.select_dtypes(include=[np.number])\n",
    "\n",
    "\n",
    "total_cases = pd_pox.pivot_table(\n",
    "    columns='Country', values='Confirmed_Cases', fill_value=0)\n",
    "\n",
    "\n",
    "\n"
   ]
  },
  {
   "cell_type": "code",
   "execution_count": 10,
   "metadata": {},
   "outputs": [
    {
     "data": {
      "text/plain": [
       "(array([0., 0., 0., 0., 0., 1., 0., 0., 0., 0.]),\n",
       " array([-0.5, -0.4, -0.3, -0.2, -0.1,  0. ,  0.1,  0.2,  0.3,  0.4,  0.5]),\n",
       " <BarContainer object of 10 artists>)"
      ]
     },
     "execution_count": 10,
     "metadata": {},
     "output_type": "execute_result"
    },
    {
     "data": {
      "image/png": "[encoded data removed]",
      "text/plain": [
       "<Figure size 432x288 with 1 Axes>"
      ]
     },
     "metadata": {
      "needs_background": "light"
     },
     "output_type": "display_data"
    }
   ],
   "source": [
    "import matplotlib.pyplot as plt\n",
    "\n",
    "# new_df = what.select_dtypes(include=[np.number])\n",
    "# total_cases.describe\n",
    "# total_cases.index\n",
    "\n",
    "plt.hist(country_cases.index)\n",
    "# # plt.xLabel('Country')\n",
    "# # plt.yLabel('Confirmed_Cases')\n",
    "# # plt.title('yikes')\n",
    "# plt.show()\n"
   ]
  },
  {
   "cell_type": "code",
   "execution_count": 27,
   "metadata": {},
   "outputs": [
    {
     "data": {
      "text/plain": [
       "<pyspark.sql.readwriter.DataFrameWriter at 0x7f436e329750>"
      ]
     },
     "execution_count": 27,
     "metadata": {},
     "output_type": "execute_result"
    }
   ],
   "source": [
    "from pyspark.sql import SparkSession\n",
    "\n",
    "from google.cloud import bigquery\n",
    "\n",
    "\n",
    "os.environ[\"GOOGLE_APPLICATION_CREDENTIALS\"] = \"/home/fossa/data/dont_worry_about_it/dearHenry.json\"\n",
    "\n",
    "client = bigquery.Client()\n",
    "# dataset_id = f\"{client.project}.monkeypox\"\n",
    "# bucket = 'hole-in-the'\n",
    "# spark.conf.set('temporaryGcsBucket', bucket)\n",
    "\n",
    "# dataset_df.write.format(\"bigquery\") \\\n",
    "#     .mode(\"overwrite\") \\\n",
    "#     .option(\"temporaryGcsBucket\", \"databricks-bigquery-temp\") \\\n",
    "#     .option(\"table\", \"dearliza.monkeypox_data.monkeypox\") \\\n",
    "#     .save()\n",
    "\n",
    "dataset_df.write \\\n",
    "    .format(\"bigquery\") \\\n",
    "    .option(\"temporaryGcsBucket\", \"hole-in-the\") \\\n",
    "    .option(\"table\", \"monkeypox.monkeypox_table\")\n",
    "\n",
    "\n",
    "\n"
   ]
  },
  {
   "cell_type": "code",
   "execution_count": 25,
   "metadata": {},
   "outputs": [],
   "source": [
    "# Imports the Google Cloud client library\n",
    "import os\n",
    "from google.cloud import storage\n",
    "\n",
    "# Instantiates a client\n",
    "\n",
    "os.environ[\"GOOGLE_APPLICATION_CREDENTIALS\"] = \"/home/fossa/data/dont_worry_about_it/dearHenry.json\"\n",
    "client = storage.Client()\n",
    "\n",
    "\n",
    "# Retrieve an existing bucket\n",
    "# https://console.cloud.google.com/storage/browser/hole-in-the/\n",
    "bucket = client.get_bucket('hole-in-the')\n",
    "# Then do other things...\n",
    "blob = bucket.blob('daily_cases.csv')\n",
    "blob.upload_from_filename('../data/Daily_Country_Wise_Confirmed_Cases.csv')\n",
    "blob = bucket.blob('cases_worldwide.csv')\n",
    "blob.upload_from_filename('../data/Monkey_Pox_Cases_Worldwide.csv')\n"
   ]
  },
  {
   "cell_type": "code",
   "execution_count": null,
   "metadata": {},
   "outputs": [],
   "source": [
    "from google.cloud import bigquery\n",
    "import pandas as pd \n",
    "import pandas_gbq\n",
    "\n",
    "daily_cases = pd.read_csv('../data/Daily_Country_Wise_Confirmed_Cases.csv')\n",
    "# cases_worldwide = pd.read_csv('../data/Monkey_Pox_Cases_Worldwide.csv')\n",
    "\n",
    "\n",
    "client = bigquery.Client()\n",
    "dataset_id = f\"{client.project}.monkeypox\"\n",
    "dataset = bigquery.Dataset(dataset_id)\n",
    "dataset.location = 'us'\n",
    "dataset = client.create_dataset(dataset, exists_ok = True, timeout =100)\n",
    "project_id = 'dearliza'\n",
    "table_id = 'monkeypox.monkeypox_data'\n",
    "\n",
    "pandas_gbq.to_gbq(daily_cases, table_id, project_id = project_id, if_exists = 'replace', api_method = 'load_csv')"
   ]
  },
  {
   "cell_type": "code",
   "execution_count": 1,
   "metadata": {},
   "outputs": [
    {
     "ename": "ModuleNotFoundError",
     "evalue": "No module named 'keras'",
     "output_type": "error",
     "traceback": [
      "\u001b[0;31m---------------------------------------------------------------------------\u001b[0m",
      "\u001b[0;31mModuleNotFoundError\u001b[0m                       Traceback (most recent call last)",
      "\u001b[0;32m/tmp/ipykernel_5017/3272153821.py\u001b[0m in \u001b[0;36m<module>\u001b[0;34m\u001b[0m\n\u001b[0;32m----> 1\u001b[0;31m \u001b[0;32mfrom\u001b[0m \u001b[0mkeras\u001b[0m\u001b[0;34m.\u001b[0m\u001b[0mlayers\u001b[0m \u001b[0;32mimport\u001b[0m \u001b[0mLSTM\u001b[0m\u001b[0;34m,\u001b[0m \u001b[0mDropout\u001b[0m\u001b[0;34m,\u001b[0m \u001b[0mDense\u001b[0m\u001b[0;34m\u001b[0m\u001b[0;34m\u001b[0m\u001b[0m\n\u001b[0m\u001b[1;32m      2\u001b[0m \u001b[0;32mfrom\u001b[0m \u001b[0msklearn\u001b[0m\u001b[0;34m.\u001b[0m\u001b[0mpreprocessing\u001b[0m \u001b[0;32mimport\u001b[0m \u001b[0mMinMaxScaler\u001b[0m\u001b[0;34m\u001b[0m\u001b[0;34m\u001b[0m\u001b[0m\n\u001b[1;32m      3\u001b[0m \u001b[0;32mfrom\u001b[0m \u001b[0mkeras\u001b[0m\u001b[0;34m.\u001b[0m\u001b[0mmodels\u001b[0m \u001b[0;32mimport\u001b[0m \u001b[0mSequential\u001b[0m\u001b[0;34m\u001b[0m\u001b[0;34m\u001b[0m\u001b[0m\n\u001b[1;32m      4\u001b[0m \u001b[0;32mfrom\u001b[0m \u001b[0mmatplotlib\u001b[0m\u001b[0;34m.\u001b[0m\u001b[0mpylab\u001b[0m \u001b[0;32mimport\u001b[0m \u001b[0mrcParams\u001b[0m\u001b[0;34m\u001b[0m\u001b[0;34m\u001b[0m\u001b[0m\n\u001b[1;32m      5\u001b[0m \u001b[0;32mimport\u001b[0m \u001b[0mpandas\u001b[0m \u001b[0;32mas\u001b[0m \u001b[0mpd\u001b[0m\u001b[0;34m\u001b[0m\u001b[0;34m\u001b[0m\u001b[0m\n",
      "\u001b[0;31mModuleNotFoundError\u001b[0m: No module named 'keras'"
     ]
    }
   ],
   "source": [
    "from keras.layers import LSTM, Dropout, Dense\n",
    "from sklearn.preprocessing import MinMaxScaler\n",
    "from keras.models import Sequential\n",
    "from matplotlib.pylab import rcParams\n",
    "import pandas as pd\n",
    "import numpy as np\n",
    "import matplotlib.pyplot as plt\n",
    "%matplotlib inline\n",
    "rcParams['figure.figsize'] = 20, 10\n"
   ]
  }
 ],
 "metadata": {
  "kernelspec": {
   "display_name": "Python 3.7.13 ('venv': venv)",
   "language": "python",
   "name": "python3"
  },
  "language_info": {
   "codemirror_mode": {
    "name": "ipython",
    "version": 3
   },
   "file_extension": ".py",
   "mimetype": "text/x-python",
   "name": "python",
   "nbconvert_exporter": "python",
   "pygments_lexer": "ipython3",
   "version": "3.7.13"
  },
  "orig_nbformat": 4,
  "vscode": {
   "interpreter": {
    "hash": "5176a492cff03d096a1eeda30155d13c90600b4ba6733f04f70e8262b03a11c3"
   }
  }
 },
 "nbformat": 4,
 "nbformat_minor": 2
}
